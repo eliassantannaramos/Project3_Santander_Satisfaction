{
 "cells": [
  {
   "cell_type": "code",
   "execution_count": null,
   "id": "a080dd29",
   "metadata": {},
   "outputs": [],
   "source": [
    "#import libraries\n",
    "#The \"TARGET\" column is the variable to predict. It equals 1 for unsatisfied customers and 0 for satisfied customers.\n",
    "\n",
    "#Models\n",
    "from sklearn.model_selection import train_test_split\n",
    "from sklearn import decomposition\n",
    "from sklearn import svm\n",
    "from sklearn.linear_model import LogisticRegression\n",
    "from sklearn.metrics import confusion_matrix\n",
    "from sklearn.pipeline import make_pipeline\n",
    "from sklearn.preprocessing import Normalizer\n",
    "from sklearn.preprocessing import StandardScaler\n",
    "\n",
    "#Transformation\n",
    "import numpy as np\n",
    "import pandas as pd\n",
    "import random\n",
    "\n",
    "#Graphics\n",
    "import matplotlib.pyplot as plt\n",
    "%matplotlib inline"
   ]
  },
  {
   "cell_type": "code",
   "execution_count": null,
   "id": "9ecfc7a7",
   "metadata": {},
   "outputs": [],
   "source": [
    "#Loading the train Data set\n",
    "df_train = pd.read_csv(\"DataSet/train.csv\")\n",
    "df_test = pd.read_csv(\"DataSet/Test.csv\")\n",
    "Y_test = pd.read_csv(\"DataSet/sample_submission.csv\")\n",
    "df_train.head()"
   ]
  },
  {
   "cell_type": "code",
   "execution_count": null,
   "id": "567eb792",
   "metadata": {},
   "outputs": [],
   "source": [
    "#Basic statistics\n",
    "df_train.describe()\n"
   ]
  },
  {
   "cell_type": "code",
   "execution_count": null,
   "id": "aa7a3114",
   "metadata": {},
   "outputs": [],
   "source": [
    "#76020 variables and 371 observations. \n",
    "df_train.shape"
   ]
  },
  {
   "cell_type": "code",
   "execution_count": null,
   "id": "52cd330f",
   "metadata": {},
   "outputs": [],
   "source": [
    "#Check types for all collumns - Only Int and Float\n",
    "dataTypeSeries = set(df_train.dtypes)\n",
    "dataTypeSeries"
   ]
  },
  {
   "cell_type": "code",
   "execution_count": null,
   "id": "06fe9147",
   "metadata": {},
   "outputs": [],
   "source": [
    "#Checking the balance of the dataSET, as indicated, only 3% of my Dataset has the classification of satisfied client.\n",
    "\n",
    "df=pd.DataFrame(df_train[\"ID\"].groupby(df_train[\"TARGET\"]).count())\n",
    "Num_sat=int(df.iloc[1])\n",
    "\n",
    "df_train[\"TARGET\"].mean()\n"
   ]
  },
  {
   "cell_type": "code",
   "execution_count": null,
   "id": "826d3b98",
   "metadata": {},
   "outputs": [],
   "source": [
    "#Moving ID to index, this way the column ID will be \"removed\" from the DataFrame\n",
    "df_train.index=df_train[\"ID\"]\n",
    "df_train.drop(\"ID\", axis=1, inplace=True)"
   ]
  },
  {
   "cell_type": "code",
   "execution_count": null,
   "id": "65a9d358",
   "metadata": {},
   "outputs": [],
   "source": [
    "df_train.shape"
   ]
  },
  {
   "cell_type": "code",
   "execution_count": null,
   "id": "bb26e05f",
   "metadata": {},
   "outputs": [],
   "source": [
    "#Lista dos index com clientes satisfeitos e insatisfeitos\n",
    "Index_Sat=np.array(df_train.loc[df_train.TARGET>0].index)\n",
    "Index_InSat=np.array(df_train.loc[df_train.TARGET==0].index)\n",
    "df_train.loc[Index_InSat].head()"
   ]
  },
  {
   "cell_type": "code",
   "execution_count": null,
   "id": "982b607e",
   "metadata": {},
   "outputs": [],
   "source": [
    "#Gerando uma lista de itens randomicos com index das pessoas insatisfeitas para que temos as mesmas observações de \n",
    "#pessoas satisfeitas e insatisfeitas\n",
    "random_Index_Inst=random.sample(list(Index_InSat),Num_sat)\n",
    "df_train.loc[random_Index_Inst].head(5)"
   ]
  },
  {
   "cell_type": "code",
   "execution_count": null,
   "id": "5ede2852",
   "metadata": {},
   "outputs": [],
   "source": [
    "#Now the Dataset has the same number of observations for 1 and 0.\n",
    "List_dataset = [df_train.loc[Index_Sat],df_train.loc[random_Index_Inst]]\n",
    "New_data_train = pd.concat(List_dataset)\n",
    "New_data_train[[\"var3\", \"TARGET\"]].groupby(\"TARGET\").count()"
   ]
  },
  {
   "cell_type": "code",
   "execution_count": null,
   "id": "c114f068",
   "metadata": {},
   "outputs": [],
   "source": [
    "# Now the median of observation for the classification is 50%\n",
    "New_data_train[\"TARGET\"].mean()"
   ]
  },
  {
   "cell_type": "code",
   "execution_count": null,
   "id": "a70d2b92",
   "metadata": {},
   "outputs": [],
   "source": [
    "#Separado em dados em X, Y de treino e de dados de test\n",
    "#Dataset Treino\n",
    "Y_treino = New_data_train[\"TARGET\"].values\n",
    "New_data_train.drop(\"TARGET\", axis=1, inplace=True)\n",
    "X_treino = New_data_train\n",
    "print(X_treino.shape, Y_treino.shape)\n"
   ]
  },
  {
   "cell_type": "code",
   "execution_count": null,
   "id": "7ec3f407",
   "metadata": {},
   "outputs": [],
   "source": [
    "#The test Dataset in this project was given with already splited in X and Y.\n",
    "#Here we will drop the column ID\n",
    "\n",
    "#Mudanças para X_Test\n",
    "df_test.index = df_test[\"ID\"]\n",
    "df_test.drop(\"ID\", axis=1, inplace=True)\n",
    "X_test = df_test\n",
    "#Mudanças para Y_test\n",
    "Y_test.drop(\"ID\", axis=1, inplace=True)\n",
    "Y_test=Y_test[\"TARGET\"].values\n"
   ]
  },
  {
   "cell_type": "code",
   "execution_count": null,
   "id": "bc8ad0bd",
   "metadata": {},
   "outputs": [],
   "source": [
    "print(X_treino.shape, Y_treino.shape,X_test.shape, Y_test.shape)"
   ]
  },
  {
   "cell_type": "markdown",
   "id": "a5e26784",
   "metadata": {},
   "source": [
    "# Redução da dimensionalidade"
   ]
  },
  {
   "cell_type": "code",
   "execution_count": null,
   "id": "536da23f",
   "metadata": {},
   "outputs": [],
   "source": [
    "#Utilizando o PCA para reduzir a dimensionalidade\n",
    "pca = decomposition.PCA(n_components = 100, \n",
    "                        whiten = True, \n",
    "                        svd_solver = 'randomized')"
   ]
  },
  {
   "cell_type": "code",
   "execution_count": null,
   "id": "a134723d",
   "metadata": {},
   "outputs": [],
   "source": [
    "# O PCA é um algoritmo de aprendizagem não supervisionada que necessita de padronização dos dados\n",
    "# Padronizando os dados\n",
    "standardization = StandardScaler()\n",
    "Stand_coef_linear_reg = make_pipeline(standardization, pca)\n",
    "pca.fit(X_treino)\n"
   ]
  },
  {
   "cell_type": "code",
   "execution_count": null,
   "id": "ef684b90",
   "metadata": {},
   "outputs": [],
   "source": [
    "# E então aplicamos o modelo PCA nos dados de treino e de teste\n",
    "X_treino_pca = pca.transform(X_treino)\n",
    "X_test_pca = pca.transform(X_test)"
   ]
  },
  {
   "cell_type": "code",
   "execution_count": null,
   "id": "b72ad444",
   "metadata": {},
   "outputs": [],
   "source": [
    "# Shape\n",
    "print(X_treino_pca.shape)\n",
    "print(X_test_pca.shape)"
   ]
  },
  {
   "cell_type": "markdown",
   "id": "0ec56a1d",
   "metadata": {},
   "source": [
    "# Criação dos Modelos "
   ]
  },
  {
   "cell_type": "markdown",
   "id": "42473a6d",
   "metadata": {},
   "source": [
    "SVM"
   ]
  },
  {
   "cell_type": "code",
   "execution_count": null,
   "id": "046495d8",
   "metadata": {},
   "outputs": [],
   "source": []
  },
  {
   "cell_type": "code",
   "execution_count": null,
   "id": "7a7186fa",
   "metadata": {},
   "outputs": [],
   "source": [
    "#ML com SVM\n",
    "# Cria o modelo\n",
    "modelo_svm = svm.SVC(C = 5., gamma = 0.001)\n",
    "# Treinamento do modelo\n",
    "modelo_svm.fit(X_treino_pca, Y_treino)"
   ]
  },
  {
   "cell_type": "code",
   "execution_count": null,
   "id": "0f2bb05b",
   "metadata": {},
   "outputs": [],
   "source": [
    "#Previsões\n",
    "previsoes = modelo_svm.predict(X_test_pca)"
   ]
  },
  {
   "cell_type": "code",
   "execution_count": null,
   "id": "9ce9555a",
   "metadata": {},
   "outputs": [],
   "source": [
    "print(modelo_svm.score(X_test_pca, Y_test))"
   ]
  },
  {
   "cell_type": "code",
   "execution_count": null,
   "id": "37e813b6",
   "metadata": {},
   "outputs": [],
   "source": [
    "#Confusion Matriz\n",
    "matrix = confusion_matrix(Y_test, previsoes)\n",
    "\n",
    "# Imprimindo a Confusion Matrix\n",
    "print(matrix)"
   ]
  },
  {
   "cell_type": "code",
   "execution_count": null,
   "id": "8a9f107b",
   "metadata": {},
   "outputs": [],
   "source": [
    "X_treino.shape"
   ]
  },
  {
   "cell_type": "markdown",
   "id": "bffc34bb",
   "metadata": {},
   "source": [
    "# Regressão logistica"
   ]
  },
  {
   "cell_type": "code",
   "execution_count": null,
   "id": "75523318",
   "metadata": {},
   "outputs": [],
   "source": [
    "# Import do módulo\n",
    "from sklearn import tree\n",
    "\n",
    "# Datasets de treino e de teste\n",
    "x_treino = X_treino_pca\n",
    "y_treino = Y_treino\n",
    "x_teste = X_test_pca   \n",
    "\n",
    "# Criando o objeto tree para regressão\n",
    "modelo = tree.DecisionTreeRegressor() \n",
    "\n",
    "# Criando o objeto tree para classificação\n",
    "modelo = tree.DecisionTreeClassifier() \n",
    "\n",
    "# Treinando o modelo com dados de treino e checando o score\n",
    "modelo.fit(x_treino, Y_treino)\n",
    "modelo.score(x_treino, Y_treino)\n",
    "\n",
    "# Previsões\n",
    "valores_previstos = modelo.predict(x_teste)"
   ]
  },
  {
   "cell_type": "code",
   "execution_count": null,
   "id": "620d81ed",
   "metadata": {},
   "outputs": [],
   "source": [
    "matrix = confusion_matrix(Y_test, valores_previstos)\n",
    "\n",
    "# Imprimindo a Confusion Matrix\n",
    "print(matrix)"
   ]
  },
  {
   "cell_type": "code",
   "execution_count": null,
   "id": "f79adaab",
   "metadata": {},
   "outputs": [],
   "source": [
    "modelo.score(X_test_pca, Y_test)"
   ]
  },
  {
   "cell_type": "code",
   "execution_count": null,
   "id": "834cd4c6",
   "metadata": {},
   "outputs": [],
   "source": []
  },
  {
   "cell_type": "code",
   "execution_count": null,
   "id": "7bc63083",
   "metadata": {},
   "outputs": [],
   "source": []
  }
 ],
 "metadata": {
  "kernelspec": {
   "display_name": "Python 3",
   "language": "python",
   "name": "python3"
  },
  "language_info": {
   "codemirror_mode": {
    "name": "ipython",
    "version": 3
   },
   "file_extension": ".py",
   "mimetype": "text/x-python",
   "name": "python",
   "nbconvert_exporter": "python",
   "pygments_lexer": "ipython3",
   "version": "3.8.8"
  }
 },
 "nbformat": 4,
 "nbformat_minor": 5
}
