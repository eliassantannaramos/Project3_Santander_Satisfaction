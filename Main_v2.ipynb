{
 "cells": [
  {
   "cell_type": "code",
   "execution_count": 85,
   "id": "a080dd29",
   "metadata": {},
   "outputs": [],
   "source": [
    "#import libraries\n",
    "#The \"TARGET\" column is the variable to predict. It equals 0 for unsatisfied customers and 1 for satisfied customers.\n",
    "\n",
    "#Models\n",
    "\n",
    "from sklearn import decomposition\n",
    "from sklearn import svm\n",
    "from sklearn.metrics import confusion_matrix\n",
    "from sklearn.pipeline import make_pipeline\n",
    "from sklearn.preprocessing import Normalizer\n",
    "from sklearn.preprocessing import StandardScaler\n",
    "from sklearn.model_selection import train_test_split\n",
    "from sklearn.ensemble import RandomForestClassifier\n",
    "from sklearn.utils import resample\n",
    "\n",
    "\n",
    "#Transformation\n",
    "import numpy as np\n",
    "import pandas as pd\n",
    "import random\n",
    "import warnings\n",
    "warnings.filterwarnings(\"ignore\")\n",
    "from imblearn.over_sampling import SMOTE\n",
    "\n",
    "#Graphics\n",
    "import matplotlib.pyplot as plt\n",
    "%matplotlib inline"
   ]
  },
  {
   "cell_type": "code",
   "execution_count": 86,
   "id": "9ecfc7a7",
   "metadata": {},
   "outputs": [
    {
     "name": "stdout",
     "output_type": "stream",
     "text": [
      "Wall time: 5.65 s\n"
     ]
    }
   ],
   "source": [
    "%%time\n",
    "#Loading the train Data set\n",
    "\n",
    "df_train = pd.read_csv(\"DataSet/train.csv\")\n",
    "df_test = pd.read_csv(\"DataSet/Test.csv\")\n",
    "df_Y_test = pd.read_csv(\"DataSet/sample_submission.csv\")"
   ]
  },
  {
   "cell_type": "code",
   "execution_count": 87,
   "id": "58400c4f",
   "metadata": {},
   "outputs": [
    {
     "data": {
      "text/plain": [
       "(76020, 371)"
      ]
     },
     "execution_count": 87,
     "metadata": {},
     "output_type": "execute_result"
    }
   ],
   "source": [
    "#76020 variables and 371 observations. \n",
    "df_train.shape"
   ]
  },
  {
   "cell_type": "code",
   "execution_count": 88,
   "id": "ce55e976",
   "metadata": {},
   "outputs": [
    {
     "data": {
      "text/plain": [
       "{dtype('int64'), dtype('float64')}"
      ]
     },
     "execution_count": 88,
     "metadata": {},
     "output_type": "execute_result"
    }
   ],
   "source": [
    "#Check types for all collumns - Only Int and Float\n",
    "dataTypeSeries = set(df_train.dtypes)\n",
    "dataTypeSeries\n"
   ]
  },
  {
   "cell_type": "markdown",
   "id": "1a286860",
   "metadata": {},
   "source": [
    "# Resempling"
   ]
  },
  {
   "cell_type": "code",
   "execution_count": 89,
   "id": "fbaa1cf4",
   "metadata": {},
   "outputs": [],
   "source": [
    "from sklearn.utils import resample\n",
    "# Create oversampled training data set for minority class\n",
    "#\n",
    "#X_oversampled = resample(df_train[df_train['TARGET']==1],\n",
    "#                   replace=True,\n",
    "#                   n_samples=X_treino[df_train['TARGET']==0].shape[0],\n",
    "#                   random_state=123)\n",
    "#\n",
    "# Append the oversampled minority class to training data and related labels\n",
    "#\n",
    "X_treino_up = resample(df_train, \n",
    "                        replace=True, \n",
    "                        n_samples=df_train['TARGET'].value_counts()[0],# to match majority class sample count\n",
    "                        random_state=1) \n"
   ]
  },
  {
   "cell_type": "code",
   "execution_count": 90,
   "id": "ca5f8bb8",
   "metadata": {},
   "outputs": [],
   "source": [
    "X_treino_balanced=pd.concat([df_train,X_treino_up[X_treino_up[\"TARGET\"]==1]])\n"
   ]
  },
  {
   "cell_type": "code",
   "execution_count": 91,
   "id": "1fb84c1b",
   "metadata": {},
   "outputs": [
    {
     "data": {
      "text/plain": [
       "<AxesSubplot:ylabel='TARGET'>"
      ]
     },
     "execution_count": 91,
     "metadata": {},
     "output_type": "execute_result"
    },
    {
     "data": {
      "image/png": "[encoded data removed]",
      "text/plain": [
       "<Figure size 432x288 with 1 Axes>"
      ]
     },
     "metadata": {},
     "output_type": "display_data"
    }
   ],
   "source": [
    "X_treino_balanced['TARGET'].value_counts().plot.pie(autopct='%1.2f%%',shadow=True)"
   ]
  },
  {
   "cell_type": "code",
   "execution_count": 92,
   "id": "c46969cc",
   "metadata": {},
   "outputs": [
    {
     "name": "stdout",
     "output_type": "stream",
     "text": [
      "(78921, 369) (78921,)\n"
     ]
    }
   ],
   "source": [
    "#Split in X and Y\n",
    "Y_treino = X_treino_balanced[\"TARGET\"]\n",
    "X_treino = X_treino_balanced\n",
    "X_treino.drop(\"TARGET\", axis=1, inplace=True)\n",
    "X_treino.index=X_treino[\"ID\"]\n",
    "X_treino.drop(\"ID\", axis=1, inplace=True)\n",
    "print(X_treino.shape, Y_treino.shape)"
   ]
  },
  {
   "cell_type": "code",
   "execution_count": 93,
   "id": "925cea25",
   "metadata": {},
   "outputs": [
    {
     "data": {
      "text/html": [
       "<div>\n",
       "<style scoped>\n",
       "    .dataframe tbody tr th:only-of-type {\n",
       "        vertical-align: middle;\n",
       "    }\n",
       "\n",
       "    .dataframe tbody tr th {\n",
       "        vertical-align: top;\n",
       "    }\n",
       "\n",
       "    .dataframe thead th {\n",
       "        text-align: right;\n",
       "    }\n",
       "</style>\n",
       "<table border=\"1\" class=\"dataframe\">\n",
       "  <thead>\n",
       "    <tr style=\"text-align: right;\">\n",
       "      <th></th>\n",
       "      <th>ID</th>\n",
       "      <th>var3</th>\n",
       "      <th>var15</th>\n",
       "      <th>imp_ent_var16_ult1</th>\n",
       "      <th>imp_op_var39_comer_ult1</th>\n",
       "      <th>imp_op_var39_comer_ult3</th>\n",
       "      <th>imp_op_var40_comer_ult1</th>\n",
       "      <th>imp_op_var40_comer_ult3</th>\n",
       "      <th>imp_op_var40_efect_ult1</th>\n",
       "      <th>imp_op_var40_efect_ult3</th>\n",
       "      <th>...</th>\n",
       "      <th>saldo_medio_var29_ult3</th>\n",
       "      <th>saldo_medio_var33_hace2</th>\n",
       "      <th>saldo_medio_var33_hace3</th>\n",
       "      <th>saldo_medio_var33_ult1</th>\n",
       "      <th>saldo_medio_var33_ult3</th>\n",
       "      <th>saldo_medio_var44_hace2</th>\n",
       "      <th>saldo_medio_var44_hace3</th>\n",
       "      <th>saldo_medio_var44_ult1</th>\n",
       "      <th>saldo_medio_var44_ult3</th>\n",
       "      <th>var38</th>\n",
       "    </tr>\n",
       "  </thead>\n",
       "  <tbody>\n",
       "    <tr>\n",
       "      <th>0</th>\n",
       "      <td>2</td>\n",
       "      <td>2</td>\n",
       "      <td>32</td>\n",
       "      <td>0.0</td>\n",
       "      <td>0.0</td>\n",
       "      <td>0.0</td>\n",
       "      <td>0.0</td>\n",
       "      <td>0.0</td>\n",
       "      <td>0.0</td>\n",
       "      <td>0.0</td>\n",
       "      <td>...</td>\n",
       "      <td>0.0</td>\n",
       "      <td>0.0</td>\n",
       "      <td>0.0</td>\n",
       "      <td>0.0</td>\n",
       "      <td>0.0</td>\n",
       "      <td>0.0</td>\n",
       "      <td>0.0</td>\n",
       "      <td>0.0</td>\n",
       "      <td>0.0</td>\n",
       "      <td>40532.10</td>\n",
       "    </tr>\n",
       "    <tr>\n",
       "      <th>1</th>\n",
       "      <td>5</td>\n",
       "      <td>2</td>\n",
       "      <td>35</td>\n",
       "      <td>0.0</td>\n",
       "      <td>0.0</td>\n",
       "      <td>0.0</td>\n",
       "      <td>0.0</td>\n",
       "      <td>0.0</td>\n",
       "      <td>0.0</td>\n",
       "      <td>0.0</td>\n",
       "      <td>...</td>\n",
       "      <td>0.0</td>\n",
       "      <td>0.0</td>\n",
       "      <td>0.0</td>\n",
       "      <td>0.0</td>\n",
       "      <td>0.0</td>\n",
       "      <td>0.0</td>\n",
       "      <td>0.0</td>\n",
       "      <td>0.0</td>\n",
       "      <td>0.0</td>\n",
       "      <td>45486.72</td>\n",
       "    </tr>\n",
       "    <tr>\n",
       "      <th>2</th>\n",
       "      <td>6</td>\n",
       "      <td>2</td>\n",
       "      <td>23</td>\n",
       "      <td>0.0</td>\n",
       "      <td>0.0</td>\n",
       "      <td>0.0</td>\n",
       "      <td>0.0</td>\n",
       "      <td>0.0</td>\n",
       "      <td>0.0</td>\n",
       "      <td>0.0</td>\n",
       "      <td>...</td>\n",
       "      <td>0.0</td>\n",
       "      <td>0.0</td>\n",
       "      <td>0.0</td>\n",
       "      <td>0.0</td>\n",
       "      <td>0.0</td>\n",
       "      <td>0.0</td>\n",
       "      <td>0.0</td>\n",
       "      <td>0.0</td>\n",
       "      <td>0.0</td>\n",
       "      <td>46993.95</td>\n",
       "    </tr>\n",
       "    <tr>\n",
       "      <th>3</th>\n",
       "      <td>7</td>\n",
       "      <td>2</td>\n",
       "      <td>24</td>\n",
       "      <td>0.0</td>\n",
       "      <td>0.0</td>\n",
       "      <td>0.0</td>\n",
       "      <td>0.0</td>\n",
       "      <td>0.0</td>\n",
       "      <td>0.0</td>\n",
       "      <td>0.0</td>\n",
       "      <td>...</td>\n",
       "      <td>0.0</td>\n",
       "      <td>0.0</td>\n",
       "      <td>0.0</td>\n",
       "      <td>0.0</td>\n",
       "      <td>0.0</td>\n",
       "      <td>0.0</td>\n",
       "      <td>0.0</td>\n",
       "      <td>0.0</td>\n",
       "      <td>0.0</td>\n",
       "      <td>187898.61</td>\n",
       "    </tr>\n",
       "    <tr>\n",
       "      <th>4</th>\n",
       "      <td>9</td>\n",
       "      <td>2</td>\n",
       "      <td>23</td>\n",
       "      <td>0.0</td>\n",
       "      <td>0.0</td>\n",
       "      <td>0.0</td>\n",
       "      <td>0.0</td>\n",
       "      <td>0.0</td>\n",
       "      <td>0.0</td>\n",
       "      <td>0.0</td>\n",
       "      <td>...</td>\n",
       "      <td>0.0</td>\n",
       "      <td>0.0</td>\n",
       "      <td>0.0</td>\n",
       "      <td>0.0</td>\n",
       "      <td>0.0</td>\n",
       "      <td>0.0</td>\n",
       "      <td>0.0</td>\n",
       "      <td>0.0</td>\n",
       "      <td>0.0</td>\n",
       "      <td>73649.73</td>\n",
       "    </tr>\n",
       "  </tbody>\n",
       "</table>\n",
       "<p>5 rows × 370 columns</p>\n",
       "</div>"
      ],
      "text/plain": [
       "   ID  var3  var15  imp_ent_var16_ult1  imp_op_var39_comer_ult1  \\\n",
       "0   2     2     32                 0.0                      0.0   \n",
       "1   5     2     35                 0.0                      0.0   \n",
       "2   6     2     23                 0.0                      0.0   \n",
       "3   7     2     24                 0.0                      0.0   \n",
       "4   9     2     23                 0.0                      0.0   \n",
       "\n",
       "   imp_op_var39_comer_ult3  imp_op_var40_comer_ult1  imp_op_var40_comer_ult3  \\\n",
       "0                      0.0                      0.0                      0.0   \n",
       "1                      0.0                      0.0                      0.0   \n",
       "2                      0.0                      0.0                      0.0   \n",
       "3                      0.0                      0.0                      0.0   \n",
       "4                      0.0                      0.0                      0.0   \n",
       "\n",
       "   imp_op_var40_efect_ult1  imp_op_var40_efect_ult3  ...  \\\n",
       "0                      0.0                      0.0  ...   \n",
       "1                      0.0                      0.0  ...   \n",
       "2                      0.0                      0.0  ...   \n",
       "3                      0.0                      0.0  ...   \n",
       "4                      0.0                      0.0  ...   \n",
       "\n",
       "   saldo_medio_var29_ult3  saldo_medio_var33_hace2  saldo_medio_var33_hace3  \\\n",
       "0                     0.0                      0.0                      0.0   \n",
       "1                     0.0                      0.0                      0.0   \n",
       "2                     0.0                      0.0                      0.0   \n",
       "3                     0.0                      0.0                      0.0   \n",
       "4                     0.0                      0.0                      0.0   \n",
       "\n",
       "   saldo_medio_var33_ult1  saldo_medio_var33_ult3  saldo_medio_var44_hace2  \\\n",
       "0                     0.0                     0.0                      0.0   \n",
       "1                     0.0                     0.0                      0.0   \n",
       "2                     0.0                     0.0                      0.0   \n",
       "3                     0.0                     0.0                      0.0   \n",
       "4                     0.0                     0.0                      0.0   \n",
       "\n",
       "   saldo_medio_var44_hace3  saldo_medio_var44_ult1  saldo_medio_var44_ult3  \\\n",
       "0                      0.0                     0.0                     0.0   \n",
       "1                      0.0                     0.0                     0.0   \n",
       "2                      0.0                     0.0                     0.0   \n",
       "3                      0.0                     0.0                     0.0   \n",
       "4                      0.0                     0.0                     0.0   \n",
       "\n",
       "       var38  \n",
       "0   40532.10  \n",
       "1   45486.72  \n",
       "2   46993.95  \n",
       "3  187898.61  \n",
       "4   73649.73  \n",
       "\n",
       "[5 rows x 370 columns]"
      ]
     },
     "execution_count": 93,
     "metadata": {},
     "output_type": "execute_result"
    }
   ],
   "source": [
    "df_test.head()"
   ]
  },
  {
   "cell_type": "code",
   "execution_count": 94,
   "id": "fdf090d3",
   "metadata": {},
   "outputs": [],
   "source": [
    "#The test Dataset in this project was given with already splited in X and Y.\n",
    "#Here we will drop the column ID\n",
    "\n",
    "#Mudanças para X_Test\n",
    "X_test = df_test\n",
    "X_test.index = df_test[\"ID\"]\n",
    "X_test.drop(\"ID\", axis=1, inplace=True)\n",
    "\n",
    "#Mudanças para Y_test\n",
    "Y_test=df_Y_test[\"TARGET\"]\n",
    "\n"
   ]
  },
  {
   "cell_type": "code",
   "execution_count": 95,
   "id": "65bcfab3",
   "metadata": {},
   "outputs": [
    {
     "name": "stdout",
     "output_type": "stream",
     "text": [
      "(78921, 369) (78921,) (75818, 369) (75818,)\n"
     ]
    }
   ],
   "source": [
    "print(X_treino.shape, Y_treino.shape,X_test.shape, Y_test.shape)"
   ]
  },
  {
   "cell_type": "markdown",
   "id": "996bd4ba",
   "metadata": {},
   "source": [
    "# Normalização dos dados"
   ]
  },
  {
   "cell_type": "code",
   "execution_count": 97,
   "id": "5f2838fc",
   "metadata": {},
   "outputs": [
    {
     "name": "stdout",
     "output_type": "stream",
     "text": [
      "Wall time: 2.33 s\n"
     ]
    }
   ],
   "source": [
    "%%time\n",
    "\n",
    "#Normalização de treino\n",
    "scaler = StandardScaler()\n",
    "X_treino_scaled = scaler.fit_transform(X_treino)\n",
    "X_df_treino_scaled = pd.DataFrame(X_treino_scaled)\n",
    "#Normalização de test\n",
    "scaler = StandardScaler()\n",
    "X_test_scaled = scaler.fit_transform(X_test)\n",
    "X_df_test_scaled = pd.DataFrame(X_test_scaled)"
   ]
  },
  {
   "cell_type": "code",
   "execution_count": 98,
   "id": "12c3d685",
   "metadata": {},
   "outputs": [
    {
     "name": "stdout",
     "output_type": "stream",
     "text": [
      "(78921, 369) (75818, 369)\n"
     ]
    }
   ],
   "source": [
    "print(X_df_treino_scaled.shape,X_df_test_scaled.shape)"
   ]
  },
  {
   "cell_type": "markdown",
   "id": "aa32a827",
   "metadata": {},
   "source": [
    "# Redução da dimensionalidade"
   ]
  },
  {
   "cell_type": "code",
   "execution_count": 100,
   "id": "9bfe2fd6",
   "metadata": {},
   "outputs": [
    {
     "name": "stdout",
     "output_type": "stream",
     "text": [
      "Wall time: 4.84 s\n"
     ]
    },
    {
     "data": {
      "text/plain": [
       "PCA()"
      ]
     },
     "execution_count": 100,
     "metadata": {},
     "output_type": "execute_result"
    }
   ],
   "source": [
    "%%time\n",
    "#Utilizando o PCA para reduzir a dimensionalidade\n",
    "\n",
    "pca = decomposition.PCA()\n",
    "pca.fit(X_df_treino_scaled)"
   ]
  },
  {
   "cell_type": "code",
   "execution_count": 101,
   "id": "f395c2fc",
   "metadata": {},
   "outputs": [
    {
     "data": {
      "image/png": "[encoded data removed]",
      "text/plain": [
       "<Figure size 432x288 with 1 Axes>"
      ]
     },
     "metadata": {
      "needs_background": "light"
     },
     "output_type": "display_data"
    }
   ],
   "source": [
    "y = np.cumsum(pca.explained_variance_ratio_ * 100)\n",
    "x = np.arange(1,len(pca.explained_variance_)+1)\n",
    "plt.plot(x,y)\n",
    "plt.show()"
   ]
  },
  {
   "cell_type": "code",
   "execution_count": 102,
   "id": "02845b00",
   "metadata": {},
   "outputs": [
    {
     "data": {
      "text/plain": [
       "146"
      ]
     },
     "execution_count": 102,
     "metadata": {},
     "output_type": "execute_result"
    }
   ],
   "source": [
    "cumsum = np.cumsum(pca.explained_variance_ratio_)\n",
    "d = np.argmax(cumsum >= 0.99) + 1\n",
    "d"
   ]
  },
  {
   "cell_type": "code",
   "execution_count": 103,
   "id": "4c483bda",
   "metadata": {},
   "outputs": [
    {
     "name": "stdout",
     "output_type": "stream",
     "text": [
      "Wall time: 7.99 s\n"
     ]
    },
    {
     "data": {
      "text/plain": [
       "PCA(n_components=146)"
      ]
     },
     "execution_count": 103,
     "metadata": {},
     "output_type": "execute_result"
    }
   ],
   "source": [
    "%%time\n",
    "pca = decomposition.PCA(n_components=d)\n",
    "pca.fit(X_df_treino_scaled)"
   ]
  },
  {
   "cell_type": "code",
   "execution_count": 104,
   "id": "2dd5fec5",
   "metadata": {},
   "outputs": [
    {
     "name": "stdout",
     "output_type": "stream",
     "text": [
      "Wall time: 14.5 s\n"
     ]
    }
   ],
   "source": [
    "%%time\n",
    "X_treino_pca = pca.fit_transform(X_df_treino_scaled)\n",
    "X_test_pca = pca.fit_transform(X_df_test_scaled)"
   ]
  },
  {
   "cell_type": "code",
   "execution_count": 105,
   "id": "3fc05a93",
   "metadata": {},
   "outputs": [
    {
     "name": "stdout",
     "output_type": "stream",
     "text": [
      "(78921, 146)\n",
      "(75818, 146)\n"
     ]
    }
   ],
   "source": [
    "# Shape\n",
    "print(X_treino_pca.shape)\n",
    "print(X_test_pca.shape)"
   ]
  },
  {
   "cell_type": "code",
   "execution_count": 106,
   "id": "2413149f",
   "metadata": {},
   "outputs": [],
   "source": [
    "X_treino_pca=pd.DataFrame(X_treino_pca)\n",
    "X_test_pca=pd.DataFrame(X_test_pca)"
   ]
  },
  {
   "cell_type": "markdown",
   "id": "c27a37ed",
   "metadata": {},
   "source": [
    "# Criação dos Modelos"
   ]
  },
  {
   "cell_type": "code",
   "execution_count": null,
   "id": "ef1e327e",
   "metadata": {},
   "outputs": [],
   "source": [
    "%%time\n",
    "#Randon Forest\n",
    "\n",
    "randomForest = RandomForestClassifier(n_estimators = 200)\n",
    "randomForest = randomForest.fit(X_treino_pca, Y_treino)\n",
    "score = randomForest.score(X_test_pca , Y_test)\n",
    "print(score)"
   ]
  },
  {
   "cell_type": "code",
   "execution_count": 31,
   "id": "7848bab9",
   "metadata": {},
   "outputs": [
    {
     "name": "stdout",
     "output_type": "stream",
     "text": [
      "Wall time: 3.65 s\n"
     ]
    }
   ],
   "source": [
    "%%time\n",
    "y_predict = randomForest.predict(X_test_pca)"
   ]
  },
  {
   "cell_type": "code",
   "execution_count": 32,
   "id": "ec88d14d",
   "metadata": {},
   "outputs": [
    {
     "name": "stdout",
     "output_type": "stream",
     "text": [
      "[[75818     0]\n",
      " [    0     0]]\n",
      "              precision    recall  f1-score   support\n",
      "\n",
      "           0       1.00      1.00      1.00     75818\n",
      "\n",
      "    accuracy                           1.00     75818\n",
      "   macro avg       1.00      1.00      1.00     75818\n",
      "weighted avg       1.00      1.00      1.00     75818\n",
      "\n"
     ]
    }
   ],
   "source": [
    "from sklearn.metrics import classification_report, confusion_matrix,accuracy_score\n",
    "print(confusion_matrix(Y_test,y_predict, labels=[0, 1]))\n",
    "print(classification_report(Y_test, y_predict))"
   ]
  },
  {
   "cell_type": "code",
   "execution_count": 33,
   "id": "6727e34e",
   "metadata": {},
   "outputs": [
    {
     "data": {
      "text/plain": [
       "<AxesSubplot:>"
      ]
     },
     "execution_count": 33,
     "metadata": {},
     "output_type": "execute_result"
    },
    {
     "data": {
      "image/png": "[encoded data removed]",
      "text/plain": [
       "<Figure size 504x360 with 2 Axes>"
      ]
     },
     "metadata": {
      "needs_background": "light"
     },
     "output_type": "display_data"
    }
   ],
   "source": [
    "from sklearn import metrics\n",
    "import seaborn as sns\n",
    "cm=metrics.confusion_matrix(Y_test,y_predict, labels=[0, 1])\n",
    "\n",
    "df_cm = pd.DataFrame(cm, index = [i for i in [\"0\",\"1\"]],\n",
    "                  columns = [i for i in [\"Predict 0\",\"Predict 1\"]])\n",
    "plt.figure(figsize = (7,5))\n",
    "sns.heatmap(df_cm, annot=True, fmt='g')"
   ]
  },
  {
   "cell_type": "markdown",
   "id": "d7fef4c9",
   "metadata": {},
   "source": [
    "## SVM - Suport vetor Machine"
   ]
  },
  {
   "cell_type": "code",
   "execution_count": 34,
   "id": "98580b3d",
   "metadata": {},
   "outputs": [
    {
     "name": "stdout",
     "output_type": "stream",
     "text": [
      "Wall time: 1h 3min 14s\n"
     ]
    },
    {
     "data": {
      "text/plain": [
       "SVC(C=5.0, gamma=0.001)"
      ]
     },
     "execution_count": 34,
     "metadata": {},
     "output_type": "execute_result"
    }
   ],
   "source": [
    "%%time\n",
    "#ML com SVM\n",
    "# Cria o modelo\n",
    "modelo_svm = svm.SVC(C = 5., gamma = 0.001)\n",
    "# Treinamento do modelo\n",
    "modelo_svm.fit(X_treino_pca, Y_treino)"
   ]
  },
  {
   "cell_type": "code",
   "execution_count": 35,
   "id": "16170453",
   "metadata": {},
   "outputs": [
    {
     "name": "stdout",
     "output_type": "stream",
     "text": [
      "Wall time: 5min 52s\n"
     ]
    }
   ],
   "source": [
    "%%time\n",
    "#Previsões\n",
    "previsoes = modelo_svm.predict(X_test_pca)"
   ]
  },
  {
   "cell_type": "code",
   "execution_count": 36,
   "id": "1fc351bd",
   "metadata": {},
   "outputs": [
    {
     "name": "stdout",
     "output_type": "stream",
     "text": [
      "1.0\n",
      "Wall time: 5min 49s\n"
     ]
    }
   ],
   "source": [
    "%%time\n",
    "print(modelo_svm.score(X_test_pca, Y_test))"
   ]
  },
  {
   "cell_type": "code",
   "execution_count": null,
   "id": "0d3f78f6",
   "metadata": {},
   "outputs": [],
   "source": [
    "from xgboost import XGBClassifier\n",
    "from sklearn.metrics import accuracy_score\n",
    "# Criando o modelo\n",
    "modelo_xg = XGBClassifier()\n",
    "\n",
    "# Treinando o modelo\n",
    "modelo_xg.fit(X_treino_pca, Y_treino)\n",
    "\n",
    "# Pront do modelo\n",
    "print(modelo_xg)\n",
    "\n",
    "# Fazendo previsões\n",
    "y_pred = modelo_xg.predict(X_test_pca)\n",
    "previsoes = [round(value) for value in y_pred]\n",
    "\n",
    "# Avaliando as previsões\n",
    "accuracy = accuracy_score(Y_test, previsoes)\n",
    "print(\"Acurácia: %.2f%%\" % (accuracy * 100.0))"
   ]
  }
 ],
 "metadata": {
  "kernelspec": {
   "display_name": "Python 3",
   "language": "python",
   "name": "python3"
  },
  "language_info": {
   "codemirror_mode": {
    "name": "ipython",
    "version": 3
   },
   "file_extension": ".py",
   "mimetype": "text/x-python",
   "name": "python",
   "nbconvert_exporter": "python",
   "pygments_lexer": "ipython3",
   "version": "3.8.8"
  }
 },
 "nbformat": 4,
 "nbformat_minor": 5
}
