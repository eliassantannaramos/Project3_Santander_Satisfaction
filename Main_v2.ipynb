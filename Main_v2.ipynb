{
 "cells": [
  {
   "cell_type": "code",
   "execution_count": 477,
   "id": "a080dd29",
   "metadata": {},
   "outputs": [],
   "source": [
    "#import libraries\n",
    "#The \"TARGET\" column is the variable to predict. It equals 0 for unsatisfied customers and 1 for satisfied customers.\n",
    "\n",
    "#Models\n",
    "\n",
    "from sklearn import decomposition\n",
    "from sklearn import svm\n",
    "from sklearn.metrics import confusion_matrix\n",
    "from sklearn.pipeline import make_pipeline\n",
    "from sklearn.preprocessing import Normalizer\n",
    "from sklearn.preprocessing import StandardScaler\n",
    "from sklearn.model_selection import train_test_split\n",
    "from sklearn.ensemble import RandomForestClassifier\n",
    "from sklearn.utils import resample\n",
    "\n",
    "\n",
    "#Transformation\n",
    "import numpy as np\n",
    "import pandas as pd\n",
    "import random\n",
    "import warnings\n",
    "warnings.filterwarnings(\"ignore\")\n",
    "from imblearn.over_sampling import SMOTE\n",
    "\n",
    "#Graphics\n",
    "import matplotlib.pyplot as plt\n",
    "%matplotlib inline"
   ]
  },
  {
   "cell_type": "code",
   "execution_count": 478,
   "id": "9ecfc7a7",
   "metadata": {},
   "outputs": [
    {
     "name": "stdout",
     "output_type": "stream",
     "text": [
      "Wall time: 6.08 s\n"
     ]
    }
   ],
   "source": [
    "%%time\n",
    "#Loading the train Data set\n",
    "\n",
    "df_train = pd.read_csv(\"DataSet/train.csv\")\n",
    "df_test = pd.read_csv(\"DataSet/Test.csv\")\n",
    "df_Y_test = pd.read_csv(\"DataSet/sample_submission.csv\")"
   ]
  },
  {
   "cell_type": "code",
   "execution_count": 479,
   "id": "423cfe0a",
   "metadata": {},
   "outputs": [
    {
     "data": {
      "text/plain": [
       "(76020, 371)"
      ]
     },
     "execution_count": 479,
     "metadata": {},
     "output_type": "execute_result"
    }
   ],
   "source": [
    "#76020 variables and 371 observations. \n",
    "df_train.shape"
   ]
  },
  {
   "cell_type": "code",
   "execution_count": 480,
   "id": "f970b84d",
   "metadata": {},
   "outputs": [
    {
     "data": {
      "text/plain": [
       "{dtype('int64'), dtype('float64')}"
      ]
     },
     "execution_count": 480,
     "metadata": {},
     "output_type": "execute_result"
    }
   ],
   "source": [
    "#Check types for all collumns - Only Int and Float\n",
    "dataTypeSeries = set(df_train.dtypes)\n",
    "dataTypeSeries\n"
   ]
  },
  {
   "cell_type": "markdown",
   "id": "cadd2798",
   "metadata": {},
   "source": [
    "# Resempling"
   ]
  },
  {
   "cell_type": "code",
   "execution_count": 481,
   "id": "d92f2863",
   "metadata": {},
   "outputs": [],
   "source": [
    "from sklearn.utils import resample\n",
    "# Create oversampled training data set for minority class\n",
    "#\n",
    "#X_oversampled = resample(df_train[df_train['TARGET']==1],\n",
    "#                   replace=True,\n",
    "#                   n_samples=X_treino[df_train['TARGET']==0].shape[0],\n",
    "#                   random_state=123)\n",
    "#\n",
    "# Append the oversampled minority class to training data and related labels\n",
    "#\n",
    "X_treino_up = resample(df_train, \n",
    "                        replace=True, \n",
    "                        n_samples=df_train['TARGET'].value_counts()[0],# to match majority class sample count\n",
    "                        random_state=1) \n"
   ]
  },
  {
   "cell_type": "code",
   "execution_count": 482,
   "id": "5b402dc9",
   "metadata": {},
   "outputs": [],
   "source": [
    "X_treino_balanced=pd.concat([df_train,X_treino_up[X_treino_up[\"TARGET\"]==1]])\n"
   ]
  },
  {
   "cell_type": "code",
   "execution_count": 483,
   "id": "a338ca3c",
   "metadata": {},
   "outputs": [
    {
     "data": {
      "text/html": [
       "<div>\n",
       "<style scoped>\n",
       "    .dataframe tbody tr th:only-of-type {\n",
       "        vertical-align: middle;\n",
       "    }\n",
       "\n",
       "    .dataframe tbody tr th {\n",
       "        vertical-align: top;\n",
       "    }\n",
       "\n",
       "    .dataframe thead th {\n",
       "        text-align: right;\n",
       "    }\n",
       "</style>\n",
       "<table border=\"1\" class=\"dataframe\">\n",
       "  <thead>\n",
       "    <tr style=\"text-align: right;\">\n",
       "      <th></th>\n",
       "      <th>ID</th>\n",
       "      <th>var3</th>\n",
       "      <th>var15</th>\n",
       "      <th>imp_ent_var16_ult1</th>\n",
       "      <th>imp_op_var39_comer_ult1</th>\n",
       "      <th>imp_op_var39_comer_ult3</th>\n",
       "      <th>imp_op_var40_comer_ult1</th>\n",
       "      <th>imp_op_var40_comer_ult3</th>\n",
       "      <th>imp_op_var40_efect_ult1</th>\n",
       "      <th>imp_op_var40_efect_ult3</th>\n",
       "      <th>...</th>\n",
       "      <th>saldo_medio_var33_hace2</th>\n",
       "      <th>saldo_medio_var33_hace3</th>\n",
       "      <th>saldo_medio_var33_ult1</th>\n",
       "      <th>saldo_medio_var33_ult3</th>\n",
       "      <th>saldo_medio_var44_hace2</th>\n",
       "      <th>saldo_medio_var44_hace3</th>\n",
       "      <th>saldo_medio_var44_ult1</th>\n",
       "      <th>saldo_medio_var44_ult3</th>\n",
       "      <th>var38</th>\n",
       "      <th>TARGET</th>\n",
       "    </tr>\n",
       "  </thead>\n",
       "  <tbody>\n",
       "    <tr>\n",
       "      <th>0</th>\n",
       "      <td>1</td>\n",
       "      <td>2</td>\n",
       "      <td>23</td>\n",
       "      <td>0.0</td>\n",
       "      <td>0.0</td>\n",
       "      <td>0.0</td>\n",
       "      <td>0.0</td>\n",
       "      <td>0.0</td>\n",
       "      <td>0.0</td>\n",
       "      <td>0.0</td>\n",
       "      <td>...</td>\n",
       "      <td>0.0</td>\n",
       "      <td>0.0</td>\n",
       "      <td>0.0</td>\n",
       "      <td>0.0</td>\n",
       "      <td>0.0</td>\n",
       "      <td>0.0</td>\n",
       "      <td>0.0</td>\n",
       "      <td>0.0</td>\n",
       "      <td>39205.170000</td>\n",
       "      <td>0</td>\n",
       "    </tr>\n",
       "    <tr>\n",
       "      <th>1</th>\n",
       "      <td>3</td>\n",
       "      <td>2</td>\n",
       "      <td>34</td>\n",
       "      <td>0.0</td>\n",
       "      <td>0.0</td>\n",
       "      <td>0.0</td>\n",
       "      <td>0.0</td>\n",
       "      <td>0.0</td>\n",
       "      <td>0.0</td>\n",
       "      <td>0.0</td>\n",
       "      <td>...</td>\n",
       "      <td>0.0</td>\n",
       "      <td>0.0</td>\n",
       "      <td>0.0</td>\n",
       "      <td>0.0</td>\n",
       "      <td>0.0</td>\n",
       "      <td>0.0</td>\n",
       "      <td>0.0</td>\n",
       "      <td>0.0</td>\n",
       "      <td>49278.030000</td>\n",
       "      <td>0</td>\n",
       "    </tr>\n",
       "    <tr>\n",
       "      <th>2</th>\n",
       "      <td>4</td>\n",
       "      <td>2</td>\n",
       "      <td>23</td>\n",
       "      <td>0.0</td>\n",
       "      <td>0.0</td>\n",
       "      <td>0.0</td>\n",
       "      <td>0.0</td>\n",
       "      <td>0.0</td>\n",
       "      <td>0.0</td>\n",
       "      <td>0.0</td>\n",
       "      <td>...</td>\n",
       "      <td>0.0</td>\n",
       "      <td>0.0</td>\n",
       "      <td>0.0</td>\n",
       "      <td>0.0</td>\n",
       "      <td>0.0</td>\n",
       "      <td>0.0</td>\n",
       "      <td>0.0</td>\n",
       "      <td>0.0</td>\n",
       "      <td>67333.770000</td>\n",
       "      <td>0</td>\n",
       "    </tr>\n",
       "    <tr>\n",
       "      <th>3</th>\n",
       "      <td>8</td>\n",
       "      <td>2</td>\n",
       "      <td>37</td>\n",
       "      <td>0.0</td>\n",
       "      <td>195.0</td>\n",
       "      <td>195.0</td>\n",
       "      <td>0.0</td>\n",
       "      <td>0.0</td>\n",
       "      <td>0.0</td>\n",
       "      <td>0.0</td>\n",
       "      <td>...</td>\n",
       "      <td>0.0</td>\n",
       "      <td>0.0</td>\n",
       "      <td>0.0</td>\n",
       "      <td>0.0</td>\n",
       "      <td>0.0</td>\n",
       "      <td>0.0</td>\n",
       "      <td>0.0</td>\n",
       "      <td>0.0</td>\n",
       "      <td>64007.970000</td>\n",
       "      <td>0</td>\n",
       "    </tr>\n",
       "    <tr>\n",
       "      <th>4</th>\n",
       "      <td>10</td>\n",
       "      <td>2</td>\n",
       "      <td>39</td>\n",
       "      <td>0.0</td>\n",
       "      <td>0.0</td>\n",
       "      <td>0.0</td>\n",
       "      <td>0.0</td>\n",
       "      <td>0.0</td>\n",
       "      <td>0.0</td>\n",
       "      <td>0.0</td>\n",
       "      <td>...</td>\n",
       "      <td>0.0</td>\n",
       "      <td>0.0</td>\n",
       "      <td>0.0</td>\n",
       "      <td>0.0</td>\n",
       "      <td>0.0</td>\n",
       "      <td>0.0</td>\n",
       "      <td>0.0</td>\n",
       "      <td>0.0</td>\n",
       "      <td>117310.979016</td>\n",
       "      <td>0</td>\n",
       "    </tr>\n",
       "  </tbody>\n",
       "</table>\n",
       "<p>5 rows × 371 columns</p>\n",
       "</div>"
      ],
      "text/plain": [
       "   ID  var3  var15  imp_ent_var16_ult1  imp_op_var39_comer_ult1  \\\n",
       "0   1     2     23                 0.0                      0.0   \n",
       "1   3     2     34                 0.0                      0.0   \n",
       "2   4     2     23                 0.0                      0.0   \n",
       "3   8     2     37                 0.0                    195.0   \n",
       "4  10     2     39                 0.0                      0.0   \n",
       "\n",
       "   imp_op_var39_comer_ult3  imp_op_var40_comer_ult1  imp_op_var40_comer_ult3  \\\n",
       "0                      0.0                      0.0                      0.0   \n",
       "1                      0.0                      0.0                      0.0   \n",
       "2                      0.0                      0.0                      0.0   \n",
       "3                    195.0                      0.0                      0.0   \n",
       "4                      0.0                      0.0                      0.0   \n",
       "\n",
       "   imp_op_var40_efect_ult1  imp_op_var40_efect_ult3  ...  \\\n",
       "0                      0.0                      0.0  ...   \n",
       "1                      0.0                      0.0  ...   \n",
       "2                      0.0                      0.0  ...   \n",
       "3                      0.0                      0.0  ...   \n",
       "4                      0.0                      0.0  ...   \n",
       "\n",
       "   saldo_medio_var33_hace2  saldo_medio_var33_hace3  saldo_medio_var33_ult1  \\\n",
       "0                      0.0                      0.0                     0.0   \n",
       "1                      0.0                      0.0                     0.0   \n",
       "2                      0.0                      0.0                     0.0   \n",
       "3                      0.0                      0.0                     0.0   \n",
       "4                      0.0                      0.0                     0.0   \n",
       "\n",
       "   saldo_medio_var33_ult3  saldo_medio_var44_hace2  saldo_medio_var44_hace3  \\\n",
       "0                     0.0                      0.0                      0.0   \n",
       "1                     0.0                      0.0                      0.0   \n",
       "2                     0.0                      0.0                      0.0   \n",
       "3                     0.0                      0.0                      0.0   \n",
       "4                     0.0                      0.0                      0.0   \n",
       "\n",
       "   saldo_medio_var44_ult1  saldo_medio_var44_ult3          var38  TARGET  \n",
       "0                     0.0                     0.0   39205.170000       0  \n",
       "1                     0.0                     0.0   49278.030000       0  \n",
       "2                     0.0                     0.0   67333.770000       0  \n",
       "3                     0.0                     0.0   64007.970000       0  \n",
       "4                     0.0                     0.0  117310.979016       0  \n",
       "\n",
       "[5 rows x 371 columns]"
      ]
     },
     "execution_count": 483,
     "metadata": {},
     "output_type": "execute_result"
    },
    {
     "data": {
      "image/png": "[encoded data removed]",
      "text/plain": [
       "<Figure size 432x288 with 1 Axes>"
      ]
     },
     "metadata": {},
     "output_type": "display_data"
    }
   ],
   "source": [
    "X_treino_balanced['TARGET'].value_counts().plot.pie(autopct='%1.2f%%',shadow=True)\n",
    "X_treino_balanced.head()"
   ]
  },
  {
   "cell_type": "code",
   "execution_count": 484,
   "id": "b78765d4",
   "metadata": {},
   "outputs": [
    {
     "name": "stdout",
     "output_type": "stream",
     "text": [
      "(78921, 369) (78921,)\n"
     ]
    }
   ],
   "source": [
    "#Split in X and Y\n",
    "Y_treino = X_treino_balanced[\"TARGET\"]\n",
    "X_treino = X_treino_balanced\n",
    "X_treino.drop(\"TARGET\", axis=1, inplace=True)\n",
    "X_treino.index=X_treino[\"ID\"]\n",
    "X_treino.drop(\"ID\", axis=1, inplace=True)\n",
    "print(X_treino.shape, Y_treino.shape)"
   ]
  },
  {
   "cell_type": "code",
   "execution_count": 485,
   "id": "564e022f",
   "metadata": {},
   "outputs": [
    {
     "data": {
      "text/html": [
       "<div>\n",
       "<style scoped>\n",
       "    .dataframe tbody tr th:only-of-type {\n",
       "        vertical-align: middle;\n",
       "    }\n",
       "\n",
       "    .dataframe tbody tr th {\n",
       "        vertical-align: top;\n",
       "    }\n",
       "\n",
       "    .dataframe thead th {\n",
       "        text-align: right;\n",
       "    }\n",
       "</style>\n",
       "<table border=\"1\" class=\"dataframe\">\n",
       "  <thead>\n",
       "    <tr style=\"text-align: right;\">\n",
       "      <th></th>\n",
       "      <th>var3</th>\n",
       "      <th>var15</th>\n",
       "      <th>imp_ent_var16_ult1</th>\n",
       "      <th>imp_op_var39_comer_ult1</th>\n",
       "      <th>imp_op_var39_comer_ult3</th>\n",
       "      <th>imp_op_var40_comer_ult1</th>\n",
       "      <th>imp_op_var40_comer_ult3</th>\n",
       "      <th>imp_op_var40_efect_ult1</th>\n",
       "      <th>imp_op_var40_efect_ult3</th>\n",
       "      <th>imp_op_var40_ult1</th>\n",
       "      <th>...</th>\n",
       "      <th>saldo_medio_var29_ult3</th>\n",
       "      <th>saldo_medio_var33_hace2</th>\n",
       "      <th>saldo_medio_var33_hace3</th>\n",
       "      <th>saldo_medio_var33_ult1</th>\n",
       "      <th>saldo_medio_var33_ult3</th>\n",
       "      <th>saldo_medio_var44_hace2</th>\n",
       "      <th>saldo_medio_var44_hace3</th>\n",
       "      <th>saldo_medio_var44_ult1</th>\n",
       "      <th>saldo_medio_var44_ult3</th>\n",
       "      <th>var38</th>\n",
       "    </tr>\n",
       "    <tr>\n",
       "      <th>ID</th>\n",
       "      <th></th>\n",
       "      <th></th>\n",
       "      <th></th>\n",
       "      <th></th>\n",
       "      <th></th>\n",
       "      <th></th>\n",
       "      <th></th>\n",
       "      <th></th>\n",
       "      <th></th>\n",
       "      <th></th>\n",
       "      <th></th>\n",
       "      <th></th>\n",
       "      <th></th>\n",
       "      <th></th>\n",
       "      <th></th>\n",
       "      <th></th>\n",
       "      <th></th>\n",
       "      <th></th>\n",
       "      <th></th>\n",
       "      <th></th>\n",
       "      <th></th>\n",
       "    </tr>\n",
       "  </thead>\n",
       "  <tbody>\n",
       "    <tr>\n",
       "      <th>1</th>\n",
       "      <td>2</td>\n",
       "      <td>23</td>\n",
       "      <td>0.0</td>\n",
       "      <td>0.0</td>\n",
       "      <td>0.0</td>\n",
       "      <td>0.0</td>\n",
       "      <td>0.0</td>\n",
       "      <td>0.0</td>\n",
       "      <td>0.0</td>\n",
       "      <td>0.0</td>\n",
       "      <td>...</td>\n",
       "      <td>0.0</td>\n",
       "      <td>0.0</td>\n",
       "      <td>0.0</td>\n",
       "      <td>0.0</td>\n",
       "      <td>0.0</td>\n",
       "      <td>0.0</td>\n",
       "      <td>0.0</td>\n",
       "      <td>0.0</td>\n",
       "      <td>0.0</td>\n",
       "      <td>39205.170000</td>\n",
       "    </tr>\n",
       "    <tr>\n",
       "      <th>3</th>\n",
       "      <td>2</td>\n",
       "      <td>34</td>\n",
       "      <td>0.0</td>\n",
       "      <td>0.0</td>\n",
       "      <td>0.0</td>\n",
       "      <td>0.0</td>\n",
       "      <td>0.0</td>\n",
       "      <td>0.0</td>\n",
       "      <td>0.0</td>\n",
       "      <td>0.0</td>\n",
       "      <td>...</td>\n",
       "      <td>0.0</td>\n",
       "      <td>0.0</td>\n",
       "      <td>0.0</td>\n",
       "      <td>0.0</td>\n",
       "      <td>0.0</td>\n",
       "      <td>0.0</td>\n",
       "      <td>0.0</td>\n",
       "      <td>0.0</td>\n",
       "      <td>0.0</td>\n",
       "      <td>49278.030000</td>\n",
       "    </tr>\n",
       "    <tr>\n",
       "      <th>4</th>\n",
       "      <td>2</td>\n",
       "      <td>23</td>\n",
       "      <td>0.0</td>\n",
       "      <td>0.0</td>\n",
       "      <td>0.0</td>\n",
       "      <td>0.0</td>\n",
       "      <td>0.0</td>\n",
       "      <td>0.0</td>\n",
       "      <td>0.0</td>\n",
       "      <td>0.0</td>\n",
       "      <td>...</td>\n",
       "      <td>0.0</td>\n",
       "      <td>0.0</td>\n",
       "      <td>0.0</td>\n",
       "      <td>0.0</td>\n",
       "      <td>0.0</td>\n",
       "      <td>0.0</td>\n",
       "      <td>0.0</td>\n",
       "      <td>0.0</td>\n",
       "      <td>0.0</td>\n",
       "      <td>67333.770000</td>\n",
       "    </tr>\n",
       "    <tr>\n",
       "      <th>8</th>\n",
       "      <td>2</td>\n",
       "      <td>37</td>\n",
       "      <td>0.0</td>\n",
       "      <td>195.0</td>\n",
       "      <td>195.0</td>\n",
       "      <td>0.0</td>\n",
       "      <td>0.0</td>\n",
       "      <td>0.0</td>\n",
       "      <td>0.0</td>\n",
       "      <td>0.0</td>\n",
       "      <td>...</td>\n",
       "      <td>0.0</td>\n",
       "      <td>0.0</td>\n",
       "      <td>0.0</td>\n",
       "      <td>0.0</td>\n",
       "      <td>0.0</td>\n",
       "      <td>0.0</td>\n",
       "      <td>0.0</td>\n",
       "      <td>0.0</td>\n",
       "      <td>0.0</td>\n",
       "      <td>64007.970000</td>\n",
       "    </tr>\n",
       "    <tr>\n",
       "      <th>10</th>\n",
       "      <td>2</td>\n",
       "      <td>39</td>\n",
       "      <td>0.0</td>\n",
       "      <td>0.0</td>\n",
       "      <td>0.0</td>\n",
       "      <td>0.0</td>\n",
       "      <td>0.0</td>\n",
       "      <td>0.0</td>\n",
       "      <td>0.0</td>\n",
       "      <td>0.0</td>\n",
       "      <td>...</td>\n",
       "      <td>0.0</td>\n",
       "      <td>0.0</td>\n",
       "      <td>0.0</td>\n",
       "      <td>0.0</td>\n",
       "      <td>0.0</td>\n",
       "      <td>0.0</td>\n",
       "      <td>0.0</td>\n",
       "      <td>0.0</td>\n",
       "      <td>0.0</td>\n",
       "      <td>117310.979016</td>\n",
       "    </tr>\n",
       "  </tbody>\n",
       "</table>\n",
       "<p>5 rows × 369 columns</p>\n",
       "</div>"
      ],
      "text/plain": [
       "    var3  var15  imp_ent_var16_ult1  imp_op_var39_comer_ult1  \\\n",
       "ID                                                             \n",
       "1      2     23                 0.0                      0.0   \n",
       "3      2     34                 0.0                      0.0   \n",
       "4      2     23                 0.0                      0.0   \n",
       "8      2     37                 0.0                    195.0   \n",
       "10     2     39                 0.0                      0.0   \n",
       "\n",
       "    imp_op_var39_comer_ult3  imp_op_var40_comer_ult1  imp_op_var40_comer_ult3  \\\n",
       "ID                                                                              \n",
       "1                       0.0                      0.0                      0.0   \n",
       "3                       0.0                      0.0                      0.0   \n",
       "4                       0.0                      0.0                      0.0   \n",
       "8                     195.0                      0.0                      0.0   \n",
       "10                      0.0                      0.0                      0.0   \n",
       "\n",
       "    imp_op_var40_efect_ult1  imp_op_var40_efect_ult3  imp_op_var40_ult1  ...  \\\n",
       "ID                                                                       ...   \n",
       "1                       0.0                      0.0                0.0  ...   \n",
       "3                       0.0                      0.0                0.0  ...   \n",
       "4                       0.0                      0.0                0.0  ...   \n",
       "8                       0.0                      0.0                0.0  ...   \n",
       "10                      0.0                      0.0                0.0  ...   \n",
       "\n",
       "    saldo_medio_var29_ult3  saldo_medio_var33_hace2  saldo_medio_var33_hace3  \\\n",
       "ID                                                                             \n",
       "1                      0.0                      0.0                      0.0   \n",
       "3                      0.0                      0.0                      0.0   \n",
       "4                      0.0                      0.0                      0.0   \n",
       "8                      0.0                      0.0                      0.0   \n",
       "10                     0.0                      0.0                      0.0   \n",
       "\n",
       "    saldo_medio_var33_ult1  saldo_medio_var33_ult3  saldo_medio_var44_hace2  \\\n",
       "ID                                                                            \n",
       "1                      0.0                     0.0                      0.0   \n",
       "3                      0.0                     0.0                      0.0   \n",
       "4                      0.0                     0.0                      0.0   \n",
       "8                      0.0                     0.0                      0.0   \n",
       "10                     0.0                     0.0                      0.0   \n",
       "\n",
       "    saldo_medio_var44_hace3  saldo_medio_var44_ult1  saldo_medio_var44_ult3  \\\n",
       "ID                                                                            \n",
       "1                       0.0                     0.0                     0.0   \n",
       "3                       0.0                     0.0                     0.0   \n",
       "4                       0.0                     0.0                     0.0   \n",
       "8                       0.0                     0.0                     0.0   \n",
       "10                      0.0                     0.0                     0.0   \n",
       "\n",
       "            var38  \n",
       "ID                 \n",
       "1    39205.170000  \n",
       "3    49278.030000  \n",
       "4    67333.770000  \n",
       "8    64007.970000  \n",
       "10  117310.979016  \n",
       "\n",
       "[5 rows x 369 columns]"
      ]
     },
     "execution_count": 485,
     "metadata": {},
     "output_type": "execute_result"
    }
   ],
   "source": [
    "X_treino.head()"
   ]
  },
  {
   "cell_type": "code",
   "execution_count": 486,
   "id": "5b72a33b",
   "metadata": {},
   "outputs": [],
   "source": [
    "#The test Dataset in this project was given with already splited in X and Y.\n",
    "#Here we will drop the column ID\n",
    "\n",
    "#Mudanças para X_Test\n",
    "X_test = df_test\n",
    "X_test.index = df_test[\"ID\"]\n",
    "X_test.drop(\"ID\", axis=1, inplace=True)\n",
    "\n",
    "#Mudanças para Y_test\n",
    "Y_test=df_Y_test[\"TARGET\"]\n",
    "\n"
   ]
  },
  {
   "cell_type": "code",
   "execution_count": 487,
   "id": "e4bb120b",
   "metadata": {},
   "outputs": [
    {
     "name": "stdout",
     "output_type": "stream",
     "text": [
      "(78921, 369) (78921,) (75818, 369) (75818,)\n"
     ]
    }
   ],
   "source": [
    "print(X_treino.shape, Y_treino.shape,X_test.shape, Y_test.shape)"
   ]
  },
  {
   "cell_type": "markdown",
   "id": "4a8d357d",
   "metadata": {},
   "source": [
    "# Normalização dos dados"
   ]
  },
  {
   "cell_type": "code",
   "execution_count": 488,
   "id": "7d97482f",
   "metadata": {},
   "outputs": [
    {
     "name": "stdout",
     "output_type": "stream",
     "text": [
      "Wall time: 2.32 s\n"
     ]
    }
   ],
   "source": [
    "%%time\n",
    "\n",
    "#Normalização de treino\n",
    "scaler = StandardScaler()\n",
    "X_treino_scaled = scaler.fit_transform(X_treino)\n",
    "X_df_treino_scaled = pd.DataFrame(X_treino_scaled, index=X_treino.index)\n",
    "#Normalização de test\n",
    "scaler = StandardScaler()\n",
    "X_test_scaled = scaler.fit_transform(X_test)\n",
    "X_df_test_scaled = pd.DataFrame(X_test_scaled, index=X_test.index)"
   ]
  },
  {
   "cell_type": "markdown",
   "id": "2e424fc5",
   "metadata": {},
   "source": [
    "# Balanceamento"
   ]
  },
  {
   "cell_type": "code",
   "execution_count": 489,
   "id": "98b582e9",
   "metadata": {},
   "outputs": [],
   "source": [
    "scaler_x_train, scaler_x_test, scaler_y_train, scaler_y_test = train_test_split(X_df_treino_scaled, Y_treino, test_size=0.3)"
   ]
  },
  {
   "cell_type": "code",
   "execution_count": 490,
   "id": "5eacf279",
   "metadata": {},
   "outputs": [
    {
     "data": {
      "text/plain": [
       "<AxesSubplot:title={'center':'Count_target'}>"
      ]
     },
     "execution_count": 490,
     "metadata": {},
     "output_type": "execute_result"
    },
    {
     "data": {
      "image/png": "[encoded data removed]",
      "text/plain": [
       "<Figure size 432x288 with 1 Axes>"
      ]
     },
     "metadata": {
      "needs_background": "light"
     },
     "output_type": "display_data"
    }
   ],
   "source": [
    "smote = SMOTE()\n",
    "x_over, y_over = smote.fit_resample(scaler_x_train,scaler_y_train)\n",
    "y_over.value_counts().plot(kind='bar',title='Count_target',color=['blue','orange'])"
   ]
  },
  {
   "cell_type": "code",
   "execution_count": 393,
   "id": "0807f66e",
   "metadata": {
    "scrolled": true
   },
   "outputs": [
    {
     "name": "stdout",
     "output_type": "stream",
     "text": [
      "(102254, 369) (102254,) (75818, 369) (75818,)\n"
     ]
    }
   ],
   "source": [
    "print(x_over.shape,y_over.shape,X_df_test_scaled.shape,Y_test.shape)"
   ]
  },
  {
   "cell_type": "markdown",
   "id": "3a9a7fbb",
   "metadata": {},
   "source": [
    "# Redução da dimensionalidade"
   ]
  },
  {
   "cell_type": "code",
   "execution_count": 336,
   "id": "bf21bc73",
   "metadata": {},
   "outputs": [
    {
     "name": "stdout",
     "output_type": "stream",
     "text": [
      "Wall time: 6.42 s\n"
     ]
    },
    {
     "data": {
      "text/plain": [
       "PCA()"
      ]
     },
     "execution_count": 336,
     "metadata": {},
     "output_type": "execute_result"
    }
   ],
   "source": [
    "%%time\n",
    "#Utilizando o PCA para reduzir a dimensionalidade\n",
    "\n",
    "pca = decomposition.PCA()\n",
    "pca.fit(X_df_treino_scaled)"
   ]
  },
  {
   "cell_type": "code",
   "execution_count": 337,
   "id": "c6b460f9",
   "metadata": {},
   "outputs": [
    {
     "data": {
      "image/png": "[encoded data removed]",
      "text/plain": [
       "<Figure size 432x288 with 1 Axes>"
      ]
     },
     "metadata": {
      "needs_background": "light"
     },
     "output_type": "display_data"
    }
   ],
   "source": [
    "y = np.cumsum(pca.explained_variance_ratio_ * 100)\n",
    "x = np.arange(1,len(pca.explained_variance_)+1)\n",
    "plt.plot(x,y)\n",
    "plt.show()"
   ]
  },
  {
   "cell_type": "code",
   "execution_count": 338,
   "id": "49559a95",
   "metadata": {},
   "outputs": [
    {
     "data": {
      "text/plain": [
       "146"
      ]
     },
     "execution_count": 338,
     "metadata": {},
     "output_type": "execute_result"
    }
   ],
   "source": [
    "cumsum = np.cumsum(pca.explained_variance_ratio_)\n",
    "d = np.argmax(cumsum >= 0.99) + 1\n",
    "d"
   ]
  },
  {
   "cell_type": "code",
   "execution_count": 339,
   "id": "f6489e73",
   "metadata": {},
   "outputs": [
    {
     "name": "stdout",
     "output_type": "stream",
     "text": [
      "Wall time: 8.07 s\n"
     ]
    },
    {
     "data": {
      "text/plain": [
       "PCA(n_components=146)"
      ]
     },
     "execution_count": 339,
     "metadata": {},
     "output_type": "execute_result"
    }
   ],
   "source": [
    "%%time\n",
    "pca = decomposition.PCA(n_components=d)\n",
    "pca.fit(X_df_treino_scaled)"
   ]
  },
  {
   "cell_type": "code",
   "execution_count": 340,
   "id": "41b5728b",
   "metadata": {},
   "outputs": [
    {
     "name": "stdout",
     "output_type": "stream",
     "text": [
      "Wall time: 15 s\n"
     ]
    }
   ],
   "source": [
    "%%time\n",
    "X_treino_pca = pca.fit_transform(X_df_treino_scaled)\n",
    "X_test_pca = pca.fit_transform(X_df_test_scaled)"
   ]
  },
  {
   "cell_type": "code",
   "execution_count": 341,
   "id": "87cf3df1",
   "metadata": {},
   "outputs": [
    {
     "name": "stdout",
     "output_type": "stream",
     "text": [
      "(78921, 146)\n",
      "(75818, 146)\n"
     ]
    }
   ],
   "source": [
    "# Shape\n",
    "print(X_treino_pca.shape)\n",
    "print(X_test_pca.shape)"
   ]
  },
  {
   "cell_type": "code",
   "execution_count": 342,
   "id": "45183a41",
   "metadata": {},
   "outputs": [],
   "source": [
    "X_treino_pca=pd.DataFrame(X_treino_pca, index=X_treino.index)\n",
    "X_test_pca=pd.DataFrame(X_test_pca,  index=X_test.index)"
   ]
  },
  {
   "cell_type": "code",
   "execution_count": 344,
   "id": "458295b0",
   "metadata": {},
   "outputs": [
    {
     "data": {
      "text/html": [
       "<div>\n",
       "<style scoped>\n",
       "    .dataframe tbody tr th:only-of-type {\n",
       "        vertical-align: middle;\n",
       "    }\n",
       "\n",
       "    .dataframe tbody tr th {\n",
       "        vertical-align: top;\n",
       "    }\n",
       "\n",
       "    .dataframe thead th {\n",
       "        text-align: right;\n",
       "    }\n",
       "</style>\n",
       "<table border=\"1\" class=\"dataframe\">\n",
       "  <thead>\n",
       "    <tr style=\"text-align: right;\">\n",
       "      <th></th>\n",
       "      <th>0</th>\n",
       "      <th>1</th>\n",
       "      <th>2</th>\n",
       "      <th>3</th>\n",
       "      <th>4</th>\n",
       "      <th>5</th>\n",
       "      <th>6</th>\n",
       "      <th>7</th>\n",
       "      <th>8</th>\n",
       "      <th>9</th>\n",
       "      <th>...</th>\n",
       "      <th>136</th>\n",
       "      <th>137</th>\n",
       "      <th>138</th>\n",
       "      <th>139</th>\n",
       "      <th>140</th>\n",
       "      <th>141</th>\n",
       "      <th>142</th>\n",
       "      <th>143</th>\n",
       "      <th>144</th>\n",
       "      <th>145</th>\n",
       "    </tr>\n",
       "    <tr>\n",
       "      <th>ID</th>\n",
       "      <th></th>\n",
       "      <th></th>\n",
       "      <th></th>\n",
       "      <th></th>\n",
       "      <th></th>\n",
       "      <th></th>\n",
       "      <th></th>\n",
       "      <th></th>\n",
       "      <th></th>\n",
       "      <th></th>\n",
       "      <th></th>\n",
       "      <th></th>\n",
       "      <th></th>\n",
       "      <th></th>\n",
       "      <th></th>\n",
       "      <th></th>\n",
       "      <th></th>\n",
       "      <th></th>\n",
       "      <th></th>\n",
       "      <th></th>\n",
       "      <th></th>\n",
       "    </tr>\n",
       "  </thead>\n",
       "  <tbody>\n",
       "    <tr>\n",
       "      <th>1</th>\n",
       "      <td>-2.649203</td>\n",
       "      <td>-1.556403</td>\n",
       "      <td>-0.201885</td>\n",
       "      <td>0.236791</td>\n",
       "      <td>0.284824</td>\n",
       "      <td>-1.322057</td>\n",
       "      <td>0.158046</td>\n",
       "      <td>-0.113892</td>\n",
       "      <td>-0.032896</td>\n",
       "      <td>-0.186699</td>\n",
       "      <td>...</td>\n",
       "      <td>0.010603</td>\n",
       "      <td>0.007035</td>\n",
       "      <td>-0.014441</td>\n",
       "      <td>0.003272</td>\n",
       "      <td>-0.004058</td>\n",
       "      <td>-0.019205</td>\n",
       "      <td>0.000626</td>\n",
       "      <td>-0.005213</td>\n",
       "      <td>0.015947</td>\n",
       "      <td>-0.010502</td>\n",
       "    </tr>\n",
       "    <tr>\n",
       "      <th>3</th>\n",
       "      <td>-0.998435</td>\n",
       "      <td>7.941052</td>\n",
       "      <td>-4.068248</td>\n",
       "      <td>4.983067</td>\n",
       "      <td>3.240302</td>\n",
       "      <td>-0.172782</td>\n",
       "      <td>0.133655</td>\n",
       "      <td>0.061436</td>\n",
       "      <td>-0.533466</td>\n",
       "      <td>-0.174073</td>\n",
       "      <td>...</td>\n",
       "      <td>0.181477</td>\n",
       "      <td>-0.135803</td>\n",
       "      <td>0.012762</td>\n",
       "      <td>-0.218159</td>\n",
       "      <td>-0.054886</td>\n",
       "      <td>-0.023913</td>\n",
       "      <td>-0.000786</td>\n",
       "      <td>0.007254</td>\n",
       "      <td>0.040262</td>\n",
       "      <td>0.159572</td>\n",
       "    </tr>\n",
       "    <tr>\n",
       "      <th>4</th>\n",
       "      <td>-1.957120</td>\n",
       "      <td>-0.904210</td>\n",
       "      <td>0.016232</td>\n",
       "      <td>-0.103778</td>\n",
       "      <td>0.101910</td>\n",
       "      <td>0.196241</td>\n",
       "      <td>0.006059</td>\n",
       "      <td>-0.110835</td>\n",
       "      <td>0.041590</td>\n",
       "      <td>0.071602</td>\n",
       "      <td>...</td>\n",
       "      <td>0.192327</td>\n",
       "      <td>-0.180942</td>\n",
       "      <td>0.172628</td>\n",
       "      <td>0.066014</td>\n",
       "      <td>-0.078432</td>\n",
       "      <td>-0.054655</td>\n",
       "      <td>-0.010613</td>\n",
       "      <td>0.012045</td>\n",
       "      <td>0.014646</td>\n",
       "      <td>0.060435</td>\n",
       "    </tr>\n",
       "    <tr>\n",
       "      <th>8</th>\n",
       "      <td>4.445458</td>\n",
       "      <td>-1.339784</td>\n",
       "      <td>0.092006</td>\n",
       "      <td>0.006541</td>\n",
       "      <td>-0.445215</td>\n",
       "      <td>2.879440</td>\n",
       "      <td>-0.405226</td>\n",
       "      <td>0.137211</td>\n",
       "      <td>0.160645</td>\n",
       "      <td>0.305493</td>\n",
       "      <td>...</td>\n",
       "      <td>0.316559</td>\n",
       "      <td>-0.168226</td>\n",
       "      <td>0.043566</td>\n",
       "      <td>0.282637</td>\n",
       "      <td>-0.124567</td>\n",
       "      <td>-0.179312</td>\n",
       "      <td>0.161122</td>\n",
       "      <td>-0.037961</td>\n",
       "      <td>0.180188</td>\n",
       "      <td>0.003903</td>\n",
       "    </tr>\n",
       "    <tr>\n",
       "      <th>10</th>\n",
       "      <td>1.987699</td>\n",
       "      <td>8.514646</td>\n",
       "      <td>3.679860</td>\n",
       "      <td>-9.650119</td>\n",
       "      <td>-7.341323</td>\n",
       "      <td>-1.962481</td>\n",
       "      <td>-0.223906</td>\n",
       "      <td>0.837836</td>\n",
       "      <td>-0.484031</td>\n",
       "      <td>0.023214</td>\n",
       "      <td>...</td>\n",
       "      <td>-0.025471</td>\n",
       "      <td>-0.211531</td>\n",
       "      <td>0.123783</td>\n",
       "      <td>-0.062741</td>\n",
       "      <td>0.020013</td>\n",
       "      <td>0.027578</td>\n",
       "      <td>0.192538</td>\n",
       "      <td>-0.022933</td>\n",
       "      <td>-0.107940</td>\n",
       "      <td>-0.195214</td>\n",
       "    </tr>\n",
       "  </tbody>\n",
       "</table>\n",
       "<p>5 rows × 146 columns</p>\n",
       "</div>"
      ],
      "text/plain": [
       "         0         1         2         3         4         5         6    \\\n",
       "ID                                                                         \n",
       "1  -2.649203 -1.556403 -0.201885  0.236791  0.284824 -1.322057  0.158046   \n",
       "3  -0.998435  7.941052 -4.068248  4.983067  3.240302 -0.172782  0.133655   \n",
       "4  -1.957120 -0.904210  0.016232 -0.103778  0.101910  0.196241  0.006059   \n",
       "8   4.445458 -1.339784  0.092006  0.006541 -0.445215  2.879440 -0.405226   \n",
       "10  1.987699  8.514646  3.679860 -9.650119 -7.341323 -1.962481 -0.223906   \n",
       "\n",
       "         7         8         9    ...       136       137       138       139  \\\n",
       "ID                                ...                                           \n",
       "1  -0.113892 -0.032896 -0.186699  ...  0.010603  0.007035 -0.014441  0.003272   \n",
       "3   0.061436 -0.533466 -0.174073  ...  0.181477 -0.135803  0.012762 -0.218159   \n",
       "4  -0.110835  0.041590  0.071602  ...  0.192327 -0.180942  0.172628  0.066014   \n",
       "8   0.137211  0.160645  0.305493  ...  0.316559 -0.168226  0.043566  0.282637   \n",
       "10  0.837836 -0.484031  0.023214  ... -0.025471 -0.211531  0.123783 -0.062741   \n",
       "\n",
       "         140       141       142       143       144       145  \n",
       "ID                                                              \n",
       "1  -0.004058 -0.019205  0.000626 -0.005213  0.015947 -0.010502  \n",
       "3  -0.054886 -0.023913 -0.000786  0.007254  0.040262  0.159572  \n",
       "4  -0.078432 -0.054655 -0.010613  0.012045  0.014646  0.060435  \n",
       "8  -0.124567 -0.179312  0.161122 -0.037961  0.180188  0.003903  \n",
       "10  0.020013  0.027578  0.192538 -0.022933 -0.107940 -0.195214  \n",
       "\n",
       "[5 rows x 146 columns]"
      ]
     },
     "execution_count": 344,
     "metadata": {},
     "output_type": "execute_result"
    }
   ],
   "source": [
    "X_test_pca.head()"
   ]
  },
  {
   "cell_type": "markdown",
   "id": "97e5388a",
   "metadata": {},
   "source": [
    "# Criação dos Modelos"
   ]
  },
  {
   "cell_type": "code",
   "execution_count": null,
   "id": "49070327",
   "metadata": {},
   "outputs": [],
   "source": [
    "#X_Treino = x_over\n",
    "#Y_Treino = y_over\n",
    "#X_Test = scaler_x_test\n",
    "#Y_Test = scaler_y_test\n",
    "#Previsao X_Teste = X_df_test_scaled\n",
    "#Previsao Y_Teste = Y_test"
   ]
  },
  {
   "cell_type": "code",
   "execution_count": 394,
   "id": "a1ef0d3a",
   "metadata": {},
   "outputs": [
    {
     "name": "stdout",
     "output_type": "stream",
     "text": [
      "0.9879417920081366\n",
      "Wall time: 1min 52s\n"
     ]
    }
   ],
   "source": [
    "%%time\n",
    "#Randon Forest\n",
    "\n",
    "randomForest = RandomForestClassifier(n_estimators = 200)\n",
    "randomForest = randomForest.fit(x_over, y_over)\n",
    "score = randomForest.score(x_over , y_over)\n",
    "print(score)"
   ]
  },
  {
   "cell_type": "code",
   "execution_count": 399,
   "id": "562baaf5",
   "metadata": {},
   "outputs": [
    {
     "name": "stdout",
     "output_type": "stream",
     "text": [
      "Wall time: 2.21 s\n"
     ]
    }
   ],
   "source": [
    "%%time\n",
    "#Previsões com o dados de treino balanceado\n",
    "y_predict = randomForest.predict(scaler_x_test)\n",
    "score = randomForest.score(scaler_y_test , y_predict)\n",
    "print(score)"
   ]
  },
  {
   "cell_type": "code",
   "execution_count": 400,
   "id": "1cbd69bc",
   "metadata": {},
   "outputs": [
    {
     "data": {
      "text/plain": [
       "<AxesSubplot:>"
      ]
     },
     "execution_count": 400,
     "metadata": {},
     "output_type": "execute_result"
    },
    {
     "data": {
      "image/png": "[encoded data removed]",
      "text/plain": [
       "<Figure size 504x360 with 2 Axes>"
      ]
     },
     "metadata": {
      "needs_background": "light"
     },
     "output_type": "display_data"
    }
   ],
   "source": [
    "\n",
    "#confusion Matrix com o dados de treino balanceado\n",
    "from sklearn import metrics\n",
    "import seaborn as sns\n",
    "cm=metrics.confusion_matrix(scaler_y_test,y_predict, labels=[0, 1])\n",
    "\n",
    "df_cm = pd.DataFrame(cm, index = [i for i in [\"0\",\"1\"]],\n",
    "                  columns = [i for i in [\"Predict 0\",\"Predict 1\"]])\n",
    "plt.figure(figsize = (7,5))\n",
    "sns.heatmap(df_cm, annot=True, fmt='g')"
   ]
  },
  {
   "cell_type": "code",
   "execution_count": 470,
   "id": "4126abbb",
   "metadata": {},
   "outputs": [
    {
     "name": "stdout",
     "output_type": "stream",
     "text": [
      "0.44862697512464056\n",
      "Wall time: 3.23 s\n"
     ]
    }
   ],
   "source": [
    "%%time\n",
    "#Previsões com o dados de treino real\n",
    "y_predict3 = randomForest.predict(X_df_test_scaled)\n",
    "pscore = metrics.accuracy_score(Y_test, y_predict3)\n",
    "print(pscore)"
   ]
  },
  {
   "cell_type": "code",
   "execution_count": 426,
   "id": "fce0b924",
   "metadata": {},
   "outputs": [
    {
     "data": {
      "text/plain": [
       "<AxesSubplot:>"
      ]
     },
     "execution_count": 426,
     "metadata": {},
     "output_type": "execute_result"
    },
    {
     "data": {
      "image/png": "[encoded data removed]",
      "text/plain": [
       "<Figure size 504x360 with 2 Axes>"
      ]
     },
     "metadata": {
      "needs_background": "light"
     },
     "output_type": "display_data"
    }
   ],
   "source": [
    "#confusion Matrix com o dados de treino real\n",
    "from sklearn import metrics\n",
    "import seaborn as sns\n",
    "cm=metrics.confusion_matrix(Y_test,y_predict3, labels=[0, 1])\n",
    "\n",
    "df_cm = pd.DataFrame(cm, index = [i for i in [\"0\",\"1\"]],\n",
    "                  columns = [i for i in [\"Predict 0\",\"Predict 1\"]])\n",
    "plt.figure(figsize = (7,5))\n",
    "sns.heatmap(df_cm, annot=True, fmt='g')"
   ]
  },
  {
   "cell_type": "code",
   "execution_count": 462,
   "id": "526dbb4e",
   "metadata": {},
   "outputs": [
    {
     "name": "stdout",
     "output_type": "stream",
     "text": [
      "Modelo salvo!\n"
     ]
    }
   ],
   "source": [
    "df_modelo_rf=pd.DataFrame(y_predict3, columns=[\"TARGET\"])\n",
    "df_modelo_rf[\"ID\"]=X_df_test_scaled.index\n",
    "df_modelo_rf.to_csv(r'df_modelo_rf.csv', index = False)\n",
    "print(\"Modelo salvo!\")"
   ]
  },
  {
   "cell_type": "code",
   "execution_count": 407,
   "id": "db5a8429",
   "metadata": {},
   "outputs": [],
   "source": [
    "## XGBOOST"
   ]
  },
  {
   "cell_type": "code",
   "execution_count": null,
   "id": "c1a1ae45",
   "metadata": {},
   "outputs": [],
   "source": [
    "#X_Treino = x_over\n",
    "#Y_Treino = y_over\n",
    "#X_Test = scaler_x_test\n",
    "#Y_Test = scaler_y_test\n",
    "#Previsao X_Teste = X_df_test_scaled\n",
    "#Previsao Y_Teste = Y_test"
   ]
  },
  {
   "cell_type": "code",
   "execution_count": null,
   "id": "675c8dd7",
   "metadata": {},
   "outputs": [],
   "source": []
  }
 ],
 "metadata": {
  "kernelspec": {
   "display_name": "Python 3",
   "language": "python",
   "name": "python3"
  },
  "language_info": {
   "codemirror_mode": {
    "name": "ipython",
    "version": 3
   },
   "file_extension": ".py",
   "mimetype": "text/x-python",
   "name": "python",
   "nbconvert_exporter": "python",
   "pygments_lexer": "ipython3",
   "version": "3.8.8"
  }
 },
 "nbformat": 4,
 "nbformat_minor": 5
}
