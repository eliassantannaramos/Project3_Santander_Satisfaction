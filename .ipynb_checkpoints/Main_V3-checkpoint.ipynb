{
 "cells": [
  {
   "cell_type": "code",
   "execution_count": 1,
   "id": "a080dd29",
   "metadata": {},
   "outputs": [],
   "source": [
    "#Libraries\n",
    "#The \"TARGET\" column is the variable to predict. It equals 0 for unsatisfied customers and 1 for satisfied customers.\n",
    "\n",
    "#Models\n",
    "\n",
    "from sklearn import decomposition\n",
    "from sklearn import svm\n",
    "from sklearn.metrics import confusion_matrix\n",
    "from sklearn.preprocessing import Normalizer\n",
    "from sklearn.preprocessing import StandardScaler\n",
    "from sklearn.metrics import confusion_matrix,classification_report, accuracy_score\n",
    "from sklearn.model_selection import train_test_split\n",
    "from sklearn.tree import DecisionTreeClassifier\n",
    "from sklearn.utils import resample\n",
    "\n",
    "\n",
    "#Transformation\n",
    "import numpy as np\n",
    "import pandas as pd\n",
    "import random\n",
    "import warnings\n",
    "warnings.filterwarnings(\"ignore\")\n",
    "from imblearn.over_sampling import SMOTE\n",
    "\n",
    "#Graphics\n",
    "import matplotlib.pyplot as plt\n",
    "%matplotlib inline"
   ]
  },
  {
   "cell_type": "code",
   "execution_count": 2,
   "id": "9ecfc7a7",
   "metadata": {},
   "outputs": [
    {
     "name": "stdout",
     "output_type": "stream",
     "text": [
      "Wall time: 5.94 s\n"
     ]
    }
   ],
   "source": [
    "%%time\n",
    "#Loading the train Data set\n",
    "\n",
    "df_train = pd.read_csv(\"DataSet/train.csv\")\n",
    "df_test = pd.read_csv(\"DataSet/Test.csv\")\n",
    "df_Y_test = pd.read_csv(\"DataSet/sample_submission.csv\")"
   ]
  },
  {
   "cell_type": "code",
   "execution_count": 3,
   "id": "bd460360",
   "metadata": {},
   "outputs": [
    {
     "data": {
      "text/plain": [
       "(76020, 371)"
      ]
     },
     "execution_count": 3,
     "metadata": {},
     "output_type": "execute_result"
    }
   ],
   "source": [
    "#76020 variables and 371 observations. \n",
    "df_train.shape"
   ]
  },
  {
   "cell_type": "code",
   "execution_count": 4,
   "id": "6f26acc1",
   "metadata": {},
   "outputs": [
    {
     "data": {
      "text/plain": [
       "{dtype('int64'), dtype('float64')}"
      ]
     },
     "execution_count": 4,
     "metadata": {},
     "output_type": "execute_result"
    }
   ],
   "source": [
    "#Check types for all collumns - Only Int and Float\n",
    "dataTypeSeries = set(df_train.dtypes)\n",
    "dataTypeSeries"
   ]
  },
  {
   "cell_type": "code",
   "execution_count": 5,
   "id": "29b52f58",
   "metadata": {},
   "outputs": [
    {
     "data": {
      "text/plain": [
       "(76020, 337)"
      ]
     },
     "execution_count": 5,
     "metadata": {},
     "output_type": "execute_result"
    }
   ],
   "source": [
    "#Removendo Colunas valores constanstes\n",
    "Columns_constants=np.where(pd.Series(df_train.nunique()==1))[0]\n",
    "Columns_constants\n",
    "df_train.drop(df_train.columns[Columns_constants],axis=1,inplace=True)\n",
    "df_train.shape"
   ]
  },
  {
   "cell_type": "markdown",
   "id": "027d462e",
   "metadata": {},
   "source": [
    "# Resempling"
   ]
  },
  {
   "cell_type": "code",
   "execution_count": 6,
   "id": "bde8ab24",
   "metadata": {},
   "outputs": [],
   "source": [
    "#Resample para aumentar o dataset de treino com mais classes \n",
    "X_treino_up = resample(df_train, \n",
    "                        replace=True, \n",
    "                        n_samples=df_train['TARGET'].value_counts()[0],\n",
    "                        random_state=1) \n",
    "X_treino_balanced=pd.concat([df_train,X_treino_up[X_treino_up[\"TARGET\"]==1]])\n"
   ]
  },
  {
   "cell_type": "code",
   "execution_count": 7,
   "id": "1ce98ad2",
   "metadata": {},
   "outputs": [
    {
     "data": {
      "text/plain": [
       "<AxesSubplot:ylabel='TARGET'>"
      ]
     },
     "execution_count": 7,
     "metadata": {},
     "output_type": "execute_result"
    },
    {
     "data": {
      "image/png": "[encoded data removed]",
      "text/plain": [
       "<Figure size 432x288 with 1 Axes>"
      ]
     },
     "metadata": {},
     "output_type": "display_data"
    }
   ],
   "source": [
    "X_treino_balanced['TARGET'].value_counts().plot.pie(autopct='%1.2f%%',shadow=True)\n"
   ]
  },
  {
   "cell_type": "code",
   "execution_count": 8,
   "id": "4d1f7270",
   "metadata": {},
   "outputs": [
    {
     "name": "stdout",
     "output_type": "stream",
     "text": [
      "(78921, 335) (78921,)\n"
     ]
    }
   ],
   "source": [
    "#Dividir em X, Y de treino\n",
    "Y_treino = X_treino_balanced[\"TARGET\"]\n",
    "X_treino = X_treino_balanced\n",
    "X_treino.drop(\"TARGET\", axis=1, inplace=True)\n",
    "X_treino.index=X_treino[\"ID\"]\n",
    "X_treino.drop(\"ID\", axis=1, inplace=True)\n",
    "print(X_treino.shape, Y_treino.shape)"
   ]
  },
  {
   "cell_type": "code",
   "execution_count": 9,
   "id": "61c59cbb",
   "metadata": {},
   "outputs": [],
   "source": [
    "#Dividir em X, Y de teste\n",
    "\n",
    "#Mudanças para X_Test\n",
    "df_test.drop(df_test.columns[Columns_constants],axis=1,inplace=True)\n",
    "\n",
    "\n",
    "X_test = df_test\n",
    "X_test.index = df_test[\"ID\"]\n",
    "X_test.drop(\"ID\", axis=1, inplace=True)\n",
    "\n",
    "#Mudanças para Y_test\n",
    "Y_test=df_Y_test[\"TARGET\"]\n",
    "\n"
   ]
  },
  {
   "cell_type": "markdown",
   "id": "4f966476",
   "metadata": {},
   "source": [
    "# Normalização dos dados"
   ]
  },
  {
   "cell_type": "code",
   "execution_count": 10,
   "id": "c394be23",
   "metadata": {},
   "outputs": [
    {
     "name": "stdout",
     "output_type": "stream",
     "text": [
      "Wall time: 2.08 s\n"
     ]
    }
   ],
   "source": [
    "%%time\n",
    "\n",
    "#Normalização dos dados de treino\n",
    "scaler = StandardScaler()\n",
    "X_treino_scaled = scaler.fit_transform(X_treino)\n",
    "X_df_treino_scaled = pd.DataFrame(X_treino_scaled, index=X_treino.index)\n",
    "#Normalização dos dados de test\n",
    "scaler = StandardScaler()\n",
    "X_test_scaled = scaler.fit_transform(X_test)\n",
    "X_df_test_scaled = pd.DataFrame(X_test_scaled, index=X_test.index)"
   ]
  },
  {
   "cell_type": "markdown",
   "id": "860b89f7",
   "metadata": {},
   "source": [
    "# Balanceamento"
   ]
  },
  {
   "cell_type": "code",
   "execution_count": 11,
   "id": "419efb0b",
   "metadata": {},
   "outputs": [],
   "source": [
    "#Outro balanceamento para igualar \n",
    "scaler_x_train, scaler_x_test, scaler_y_train, scaler_y_test = train_test_split(X_df_treino_scaled, Y_treino, test_size=0.3)"
   ]
  },
  {
   "cell_type": "code",
   "execution_count": 12,
   "id": "47993941",
   "metadata": {},
   "outputs": [
    {
     "data": {
      "text/plain": [
       "<AxesSubplot:title={'center':'Count_target'}>"
      ]
     },
     "execution_count": 12,
     "metadata": {},
     "output_type": "execute_result"
    },
    {
     "data": {
      "image/png": "[encoded data removed]",
      "text/plain": [
       "<Figure size 432x288 with 1 Axes>"
      ]
     },
     "metadata": {
      "needs_background": "light"
     },
     "output_type": "display_data"
    }
   ],
   "source": [
    "smote = SMOTE()\n",
    "x_over, y_over = smote.fit_resample(scaler_x_train,scaler_y_train)\n",
    "y_over.value_counts().plot(kind='bar',title='Count_target',color=['blue','orange'])"
   ]
  },
  {
   "cell_type": "code",
   "execution_count": 13,
   "id": "954e420b",
   "metadata": {
    "scrolled": true
   },
   "outputs": [
    {
     "name": "stdout",
     "output_type": "stream",
     "text": [
      "(102188, 335) (102188,) (75818, 335) (75818,)\n"
     ]
    }
   ],
   "source": [
    "#Vericadondo o shape dos dados\n",
    "print(x_over.shape,y_over.shape,X_df_test_scaled.shape,Y_test.shape)"
   ]
  },
  {
   "cell_type": "markdown",
   "id": "c9d0b1a5",
   "metadata": {},
   "source": [
    "# Criação dos Modelos"
   ]
  },
  {
   "cell_type": "code",
   "execution_count": 14,
   "id": "5bacf52f",
   "metadata": {},
   "outputs": [
    {
     "name": "stdout",
     "output_type": "stream",
     "text": [
      "TRAIN Accuracy: 0.7977784347679182\n",
      "Wall time: 2.87 s\n"
     ]
    }
   ],
   "source": [
    "%%time\n",
    "## DecisionTreeClassifier\n",
    "# Testando hiperparametros\n",
    "clf=DecisionTreeClassifier(criterion = 'gini', \n",
    "                           max_depth=200, \n",
    "                           max_leaf_nodes=15,\n",
    "                           splitter='best',\n",
    "                           class_weight='balanced',\n",
    "                           min_samples_leaf=760)\n",
    "\n",
    "#Treino do modelo\n",
    "clf.fit(x_over,y_over)\n",
    "# check accuracy on training set\n",
    "X_Pred_train = clf.predict(scaler_x_test)\n",
    "#Model Accuracy\n",
    "print(\"TRAIN Accuracy:\", accuracy_score(scaler_y_test,X_Pred_train))"
   ]
  },
  {
   "cell_type": "code",
   "execution_count": 15,
   "id": "6fdf76e3",
   "metadata": {},
   "outputs": [
    {
     "name": "stdout",
     "output_type": "stream",
     "text": [
      "Wall time: 1.41 s\n"
     ]
    },
    {
     "data": {
      "text/plain": [
       "<AxesSubplot:>"
      ]
     },
     "execution_count": 15,
     "metadata": {},
     "output_type": "execute_result"
    },
    {
     "data": {
      "image/png": "[encoded data removed]",
      "text/plain": [
       "<Figure size 504x360 with 2 Axes>"
      ]
     },
     "metadata": {
      "needs_background": "light"
     },
     "output_type": "display_data"
    }
   ],
   "source": [
    "%%time\n",
    "\n",
    "#confusion Matrix com o dados de treino real\n",
    "from sklearn import metrics\n",
    "import seaborn as sns\n",
    "cm=metrics.confusion_matrix(scaler_y_test,X_Pred_train, labels=[0, 1])\n",
    "\n",
    "df_cm = pd.DataFrame(cm, index = [i for i in [\"0\",\"1\"]],\n",
    "                  columns = [i for i in [\"Predict 0\",\"Predict 1\"]])\n",
    "plt.figure(figsize = (7,5))\n",
    "sns.heatmap(df_cm, annot=True, fmt='g')"
   ]
  },
  {
   "cell_type": "code",
   "execution_count": 16,
   "id": "4dcff628",
   "metadata": {},
   "outputs": [
    {
     "name": "stdout",
     "output_type": "stream",
     "text": [
      "Wall time: 142 ms\n"
     ]
    }
   ],
   "source": [
    "%%time\n",
    "# check accuracy on training set\n",
    "X_Pred_train1 = clf.predict(X_df_test_scaled)\n"
   ]
  },
  {
   "cell_type": "code",
   "execution_count": 17,
   "id": "f30b3a91",
   "metadata": {},
   "outputs": [
    {
     "name": "stdout",
     "output_type": "stream",
     "text": [
      "Modelo salvo!\n"
     ]
    }
   ],
   "source": [
    "df_modelo_dt=pd.DataFrame(X_Pred_train1, columns=[\"TARGET\"])\n",
    "df_modelo_dt[\"ID\"]=X_df_test_scaled.index\n",
    "df_modelo_dt.to_csv(r'df_modelo_dt.csv', index = False)\n",
    "print(\"Modelo salvo!\")"
   ]
  },
  {
   "cell_type": "code",
   "execution_count": 18,
   "id": "afa27c71",
   "metadata": {},
   "outputs": [
    {
     "data": {
      "image/jpeg": "[encoded data removed]",
      "text/plain": [
       "<IPython.core.display.Image object>"
      ]
     },
     "execution_count": 18,
     "metadata": {},
     "output_type": "execute_result"
    }
   ],
   "source": [
    "# Resultado no kaggle\n",
    "from IPython import display\n",
    "display.Image(\"Resultado_Kaggle.JPG\")"
   ]
  },
  {
   "cell_type": "code",
   "execution_count": null,
   "id": "15ac97f4",
   "metadata": {},
   "outputs": [],
   "source": []
  }
 ],
 "metadata": {
  "kernelspec": {
   "display_name": "Python 3",
   "language": "python",
   "name": "python3"
  },
  "language_info": {
   "codemirror_mode": {
    "name": "ipython",
    "version": 3
   },
   "file_extension": ".py",
   "mimetype": "text/x-python",
   "name": "python",
   "nbconvert_exporter": "python",
   "pygments_lexer": "ipython3",
   "version": "3.8.8"
  }
 },
 "nbformat": 4,
 "nbformat_minor": 5
}
