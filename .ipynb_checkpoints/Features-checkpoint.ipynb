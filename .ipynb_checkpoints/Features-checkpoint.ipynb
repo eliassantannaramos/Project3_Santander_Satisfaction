{
 "cells": [
  {
   "cell_type": "code",
   "execution_count": 2,
   "id": "a080dd29",
   "metadata": {},
   "outputs": [],
   "source": [
    "#import libraries\n",
    "#The \"TARGET\" column is the variable to predict. It equals 1 for unsatisfied customers and 0 for satisfied customers.\n",
    "import numpy as np\n",
    "import pandas as pd"
   ]
  },
  {
   "cell_type": "code",
   "execution_count": 3,
   "id": "9ecfc7a7",
   "metadata": {},
   "outputs": [],
   "source": [
    "#Loading the train Data set\n",
    "df_train = pd.read_csv(\"DataSet/train.csv\")\n",
    "X_treino = df_train"
   ]
  },
  {
   "cell_type": "code",
   "execution_count": 4,
   "id": "f00f3d00",
   "metadata": {},
   "outputs": [
    {
     "data": {
      "text/plain": [
       "ID                         76020\n",
       "var3                         208\n",
       "var15                        100\n",
       "imp_ent_var16_ult1           596\n",
       "imp_op_var39_comer_ult1     7551\n",
       "                           ...  \n",
       "saldo_medio_var44_hace3       33\n",
       "saldo_medio_var44_ult1       141\n",
       "saldo_medio_var44_ult3       141\n",
       "var38                      57736\n",
       "TARGET                         2\n",
       "Length: 371, dtype: int64"
      ]
     },
     "execution_count": 4,
     "metadata": {},
     "output_type": "execute_result"
    }
   ],
   "source": [
    "X_treino.nunique()"
   ]
  },
  {
   "cell_type": "code",
   "execution_count": 5,
   "id": "bb26e05f",
   "metadata": {},
   "outputs": [
    {
     "data": {
      "text/plain": [
       "array([ 22,  23,  57,  58,  59,  60,  81,  85,  86, 132, 133, 134, 135,\n",
       "       156, 162, 163, 180, 181, 190, 193, 221, 223, 235, 239, 245, 249,\n",
       "       262, 263, 304, 308, 316, 320, 328, 350], dtype=int64)"
      ]
     },
     "execution_count": 5,
     "metadata": {},
     "output_type": "execute_result"
    }
   ],
   "source": [
    "#Colunas constanstes\n",
    "Columns_constants=np.where(pd.Series(X_treino.nunique()==1))[0]\n",
    "Columns_constants"
   ]
  },
  {
   "cell_type": "code",
   "execution_count": 77,
   "id": "f26b5889",
   "metadata": {},
   "outputs": [
    {
     "data": {
      "text/plain": [
       "(76020, 337)"
      ]
     },
     "execution_count": 77,
     "metadata": {},
     "output_type": "execute_result"
    }
   ],
   "source": [
    "X_treino.drop(X_treino.columns[Columns_constants],axis=1,inplace=True)\n",
    "X_treino.shape"
   ]
  },
  {
   "cell_type": "code",
   "execution_count": 78,
   "id": "37c3cb1e",
   "metadata": {},
   "outputs": [
    {
     "name": "stdout",
     "output_type": "stream",
     "text": [
      "[[1.73504275e+00 3.90744048e-02 7.88248631e-01 ... 1.98468529e-02\n",
      "  4.27182680e-01 2.02974646e-01]\n",
      " [1.73499707e+00 3.90744048e-02 6.07525955e-02 ... 1.98468529e-02\n",
      "  3.72038298e-01 2.02974646e-01]\n",
      " [1.73497423e+00 3.90744048e-02 7.88248631e-01 ... 1.98468529e-02\n",
      "  2.73191237e-01 2.02974646e-01]\n",
      " ...\n",
      " [1.73293910e+00 3.90744048e-02 7.88248631e-01 ... 1.98468529e-02\n",
      "  2.36542515e-01 2.02974646e-01]\n",
      " [1.73296194e+00 3.90744048e-02 6.33884772e-01 ... 1.98468529e-02\n",
      "  1.80428318e-01 2.02974646e-01]\n",
      " [1.73300762e+00 3.90744048e-02 9.86935752e-01 ... 1.98468529e-02\n",
      "  4.11519699e-04 2.02974646e-01]]\n"
     ]
    }
   ],
   "source": [
    "from scipy import stats\n",
    "import numpy as np\n",
    "z = np.abs(stats.zscore(df_train))\n",
    "print(z)"
   ]
  },
  {
   "cell_type": "code",
   "execution_count": 79,
   "id": "156cbfe7",
   "metadata": {},
   "outputs": [],
   "source": [
    "threshold = 4\n",
    "outliers = np.where(z > threshold)\n",
    "linhasout=list(set(list(np.array(outliers[0]))))\n",
    "X_treino=X_treino[~X_treino.index.isin(linhasout)]"
   ]
  },
  {
   "cell_type": "code",
   "execution_count": 80,
   "id": "29e296b2",
   "metadata": {},
   "outputs": [
    {
     "data": {
      "text/plain": [
       "(56725, 337)"
      ]
     },
     "execution_count": 80,
     "metadata": {},
     "output_type": "execute_result"
    }
   ],
   "source": [
    "X_treino.shape"
   ]
  },
  {
   "cell_type": "code",
   "execution_count": 6,
   "id": "6df307c5",
   "metadata": {},
   "outputs": [
    {
     "name": "stderr",
     "output_type": "stream",
     "text": [
      "D:\\ProgramData\\Anaconda3\\lib\\site-packages\\seaborn\\distributions.py:2557: FutureWarning: `distplot` is a deprecated function and will be removed in a future version. Please adapt your code to use either `displot` (a figure-level function with similar flexibility) or `histplot` (an axes-level function for histograms).\n",
      "  warnings.warn(msg, FutureWarning)\n"
     ]
    },
    {
     "data": {
      "image/png": "[encoded data removed]",
      "text/plain": [
       "<Figure size 432x288 with 1 Axes>"
      ]
     },
     "metadata": {
      "needs_background": "light"
     },
     "output_type": "display_data"
    }
   ],
   "source": [
    "import seaborn as sns\n",
    "import matplotlib.pyplot as plt\n",
    "# histogram and kernel density estimation function of the variable height\n",
    "ax = sns.distplot(df_train.var3, hist=True, hist_kws={\"edgecolor\": 'w', \"linewidth\": 3}, kde_kws={\"linewidth\": 3})\n",
    "\n",
    "\n",
    "# labels and title\n",
    "plt.xlabel('height', fontsize=14)\n",
    "plt.ylabel('frequency', fontsize=14)\n",
    "plt.title('Distribution of height', fontsize=20);"
   ]
  },
  {
   "cell_type": "code",
   "execution_count": null,
   "id": "1ce19eb2",
   "metadata": {},
   "outputs": [],
   "source": []
  }
 ],
 "metadata": {
  "kernelspec": {
   "display_name": "Python 3",
   "language": "python",
   "name": "python3"
  },
  "language_info": {
   "codemirror_mode": {
    "name": "ipython",
    "version": 3
   },
   "file_extension": ".py",
   "mimetype": "text/x-python",
   "name": "python",
   "nbconvert_exporter": "python",
   "pygments_lexer": "ipython3",
   "version": "3.8.8"
  }
 },
 "nbformat": 4,
 "nbformat_minor": 5
}
